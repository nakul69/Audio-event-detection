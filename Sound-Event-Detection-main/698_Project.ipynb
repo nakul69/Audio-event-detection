{
  "nbformat": 4,
  "nbformat_minor": 0,
  "metadata": {
    "accelerator": "GPU",
    "colab": {
      "name": "698_Project.ipynb",
      "provenance": [],
      "collapsed_sections": [],
      "toc_visible": true
    },
    "kernelspec": {
      "display_name": "Python 3",
      "name": "python3"
    }
  },
  "cells": [
    {
      "cell_type": "markdown",
      "metadata": {
        "id": "2wz0IC-m0y2P"
      },
      "source": [
        "# Mount Drive"
      ]
    },
    {
      "cell_type": "code",
      "metadata": {
        "colab": {
          "base_uri": "https://localhost:8080/"
        },
        "id": "ENOwT8AG0529",
        "outputId": "4af5fd03-b20b-45b5-f0ba-b2cb0fc85003"
      },
      "source": [
        "from google.colab import drive\n",
        "drive.mount('/content/drive')"
      ],
      "execution_count": null,
      "outputs": [
        {
          "output_type": "stream",
          "text": [
            "Mounted at /content/drive\n"
          ],
          "name": "stdout"
        }
      ]
    },
    {
      "cell_type": "markdown",
      "metadata": {
        "id": "IbsUlxaSzt2F"
      },
      "source": [
        "# **FEATURE and DATA EXTRACTION**"
      ]
    },
    {
      "cell_type": "code",
      "metadata": {
        "id": "uoEuFjrnz1g5"
      },
      "source": [
        "import librosa\n",
        "import numpy as np\n",
        "import os\n",
        "import glob\n",
        "import pandas as pd\n",
        "import random"
      ],
      "execution_count": null,
      "outputs": []
    },
    {
      "cell_type": "code",
      "metadata": {
        "id": "gzjRrIpN0Bcs"
      },
      "source": [
        "def wav2feat(wavfile):\n",
        "    '''\n",
        "    Input: audio wav file name\n",
        "    Output: Magnitude spectrogram\n",
        "    '''\n",
        "    x, Fs = librosa.load(wavfile, sr=44100, mono=True) \n",
        " \n",
        "    hop = int(0.01 * Fs) # 10ms\n",
        "    win = int(0.02 * Fs) # 20ms\n",
        "    X = librosa.stft(x, n_fft=1024, hop_length=hop, win_length=win, window='hann', center=True, pad_mode='reflect')\n",
        " \n",
        "    X = np.abs(X)\n",
        " \n",
        "    X_db = process(X)\n",
        "      \n",
        "    return X_db\n",
        " \n",
        "def process(X):\n",
        " \n",
        "    if(X.shape[1]<401):\n",
        "      pad_size = 401 - X.shape[1]\n",
        "      zero = np.zeros((X.shape[0],pad_size))\n",
        "      X = np.hstack((X,zero)) \n",
        " \n",
        "    n_mels = 128\n",
        "    mel = librosa.filters.mel(sr=44100, n_fft=1024, n_mels=n_mels)\n",
        "    X_db = mel.dot(X)\n",
        "    return X_db"
      ],
      "execution_count": null,
      "outputs": []
    },
    {
      "cell_type": "code",
      "metadata": {
        "id": "GQLB-xGbU9K9"
      },
      "source": [
        "def read_csv(filename):\n",
        "    id_label = {}\n",
        "    with open(filename,'r') as fid:\n",
        "        for line in fid: # '176787-5-0-27.wav,engine_idling\\n'\n",
        "            tokens = line.strip().split(',') # ['176787-5-0-27.wav', 'engine_idling']\n",
        "            id_label[tokens[0]] = tokens[1]\n",
        "    return id_label"
      ],
      "execution_count": null,
      "outputs": []
    },
    {
      "cell_type": "code",
      "metadata": {
        "id": "nB0Xrj2i7Mc5"
      },
      "source": [
        "def train_data(audio_train_directory,csv_file):\n",
        "    directory = os.fsencode(audio_train_directory)\n",
        "\n",
        "    df = pd.read_csv(csv_file)\n",
        "    id_label = read_csv(csv_file)\n",
        "    Labels = list(df['class'].unique())\n",
        "    Labels_int = list(range(len(Labels)))\n",
        "    NUM_CLASSES = len(Labels_int)\n",
        "    map_char_to_int = dict(zip(Labels,Labels_int))\n",
        "    df['class_int'] = df['class'].map(map_char_to_int)\n",
        "    N = df['class'].size\n",
        "\n",
        "    X = [[] for i in range(10)]\n",
        "\n",
        "    for key,value in id_label.items():\n",
        "      if(value=='dog_bark'):\n",
        "       X[0].append(key)\n",
        "       random.shuffle(X[0])\n",
        "\n",
        "      elif(value=='gun_shot'):\n",
        "       X[1].append(key)\n",
        "       random.shuffle(X[1])\n",
        "\n",
        "      elif(value=='engine_idling'):\n",
        "       X[2].append(key)\n",
        "       random.shuffle(X[2])\n",
        "\n",
        "      elif(value=='siren'):\n",
        "       X[3].append(key)\n",
        "       random.shuffle(X[3])\n",
        "\n",
        "      elif(value=='jackhammer') :\n",
        "       X[4].append(key)\n",
        "       random.shuffle(X[4])\n",
        "\n",
        "      elif(value=='drilling'):\n",
        "       X[5].append(key)\n",
        "       random.shuffle(X[5])\n",
        "\n",
        "      elif(value=='children_playing'):\n",
        "       X[6].append(key)\n",
        "       random.shuffle(X[6])\n",
        "\n",
        "      elif(value=='street_music'):\n",
        "       X[7].append(key)\n",
        "       random.shuffle(X[7])\n",
        "\n",
        "      elif(value=='air_conditioner'):\n",
        "       X[8].append(key)\n",
        "       random.shuffle(X[8])\n",
        "\n",
        "      elif(value=='car_horn'):\n",
        "       X[9].append(key)  \n",
        "       random.shuffle(X[9]) \n",
        "      \n",
        "    X_train = [[] for i in range(10)]\n",
        "    X_test = [[] for i in range(10)]\n",
        "\n",
        "    X_train[0] = X[0][0:170]\n",
        "    X_test[0] = X[0][170:]\n",
        "\n",
        "    X_train[1] = X[1][0:50]\n",
        "    X_test[1] = X[1][50:]\n",
        "\n",
        "    X_train[2] = X[2][0:140]\n",
        "    X_test[2] = X[2][140:]\n",
        "\n",
        "    X_train[3] = X[3][0:130]\n",
        "    X_test[3] = X[3][130:]\n",
        "\n",
        "    X_train[4] = X[4][0:180]\n",
        "    X_test[4] = X[4][180:]\n",
        "\n",
        "    X_train[5] = X[5][0:170]\n",
        "    X_test[5] = X[5][170:]\n",
        "\n",
        "    X_train[6] = X[6][0:170]\n",
        "    X_test[6] = X[6][170:]\n",
        "\n",
        "    X_train[7] = X[7][0:170]\n",
        "    X_test[7] = X[7][170:]\n",
        "\n",
        "    X_train[8] = X[8][0:170]\n",
        "    X_test[8] = X[8][170:]\n",
        "\n",
        "    X_train[9] = X[9][0:50]\n",
        "    X_test[9] = X[9][50:]  \n",
        "\n",
        "    X_train_data = []\n",
        "    Y_train_data = []\n",
        "    X_test_data = []\n",
        "    Y_test_data = []\n",
        "\n",
        "    for i in range(len(X_train)):\n",
        "      for j in range(len(X_train[i])):\n",
        "        X_train_data.append(wav2feat(audio_train_directory+\"/\"+X_train[i][j]))\n",
        "        Y_train_data.append(map_char_to_int[id_label[X_train[i][j]]])\n",
        "\n",
        "    for i in range(len(X_test)):\n",
        "      for j in range(len(X_test[i])):\n",
        "        X_test_data.append(wav2feat(audio_train_directory+\"/\"+X_test[i][j]))\n",
        "        Y_test_data.append(map_char_to_int[id_label[X_test[i][j]]]) \n",
        "\n",
        "    temp = list(zip(X_train_data, Y_train_data)) \n",
        "    random.shuffle(temp) \n",
        "    X_train_data, Y_train_data = zip(*temp)     \n",
        "\n",
        "    temp = list(zip(X_test_data, Y_test_data)) \n",
        "    random.shuffle(temp) \n",
        "    X_test_data, Y_test_data = zip(*temp)    \n",
        "\n",
        "    X_train_data = np.array(X_train_data)\n",
        "    Y_train_data = np.hstack(Y_train_data)\n",
        "    size = Y_train_data.size\n",
        "    Y_train_data = Y_train_data.reshape(size,1)\n",
        "\n",
        "    X_test_data = np.array(X_test_data)\n",
        "    Y_test_data = np.hstack(Y_test_data)\n",
        "    size = Y_test_data.size\n",
        "    Y_test_data = Y_test_data.reshape(size,1)\n",
        "\n",
        "    return X_train_data,X_test_data,Y_train_data,Y_test_data,NUM_CLASSES"
      ],
      "execution_count": null,
      "outputs": []
    },
    {
      "cell_type": "markdown",
      "metadata": {
        "id": "fqKlobK8ghCq"
      },
      "source": [
        "# **MODEL**"
      ]
    },
    {
      "cell_type": "code",
      "metadata": {
        "id": "KCF1RN8YiGei"
      },
      "source": [
        "from tensorflow import keras\n",
        "import tensorflow as tf\n",
        "from keras import Sequential\n",
        "from keras.layers import Activation,Dense,Dropout"
      ],
      "execution_count": null,
      "outputs": []
    },
    {
      "cell_type": "code",
      "metadata": {
        "id": "2qEjqk6bgjOg"
      },
      "source": [
        "def Conv2D(N_CLASSES,input_shape):\n",
        "    inputs = keras.Input(shape = input_shape)\n",
        "    x = keras.layers.LayerNormalization(axis=2, name='batch_norm')(inputs)\n",
        "    x = keras.layers.Conv2D(8, kernel_size=(7,7), activation='relu', padding='same', name='conv2d_relu_1')(x)\n",
        "    x = keras.layers.MaxPooling2D(pool_size=(2,2), padding='same', name='max_pool_2d_1')(x)\n",
        "    x = keras.layers.Dropout(rate=0.2, name='dropout_1')(x)\n",
        "    x = keras.layers.Conv2D(16, kernel_size=(5,5), activation='relu', padding='same', name='conv2d_relu_2')(x)\n",
        "    x = keras.layers.MaxPooling2D(pool_size=(2,2), padding='same', name='max_pool_2d_2')(x)\n",
        "    x = keras.layers.Dropout(rate=0.2, name='dropout_2')(x)\n",
        "    x = keras.layers.Conv2D(16, kernel_size=(3,3), activation='relu', padding='same', name='conv2d_relu_3')(x)\n",
        "    x = keras.layers.MaxPooling2D(pool_size=(2,2), padding='same', name='max_pool_2d_3')(x)\n",
        "    x = keras.layers.Dropout(rate=0.2, name='dropout_3')(x)\n",
        "    x = keras.layers.Conv2D(32, kernel_size=(3,3), activation='relu', padding='same', name='conv2d_relu_4')(x)\n",
        "    x = keras.layers.MaxPooling2D(pool_size=(2,2), padding='same', name='max_pool_2d_4')(x)\n",
        "    x = keras.layers.Dropout(rate=0.2, name='dropout_4')(x)\n",
        "    x = keras.layers.MaxPooling2D(pool_size=(2,2), padding='same', name='max_pool_2d_5')(x)\n",
        "    x = keras.layers.Flatten(name='flatten')(x)\n",
        "    x = keras.layers.Dropout(rate=0.2, name='dropout_5')(x)\n",
        "    x = keras.layers.Dense(64, activation='relu', activity_regularizer=tf.keras.regularizers.l2(0.001), name='dense')(x)\n",
        "    o = keras.layers.Dense(N_CLASSES, activation='softmax', name='softmax')(x)\n",
        "    model = tf.keras.Model(inputs=inputs, outputs=o, name='2d_convolution')\n",
        "    model.compile(optimizer='adam',\n",
        "                  loss='categorical_crossentropy',\n",
        "                  metrics=['accuracy'])\n",
        "    return model"
      ],
      "execution_count": null,
      "outputs": []
    },
    {
      "cell_type": "markdown",
      "metadata": {
        "id": "-5XFi1sQkQDo"
      },
      "source": [
        "#**TRAIN**"
      ]
    },
    {
      "cell_type": "code",
      "metadata": {
        "id": "vf7d7HuwGLL-"
      },
      "source": [
        "from sklearn.model_selection import train_test_split\n",
        "from tensorflow import keras"
      ],
      "execution_count": null,
      "outputs": []
    },
    {
      "cell_type": "code",
      "metadata": {
        "id": "6EAbRF8OkXFJ"
      },
      "source": [
        "def train(X_train_data,Y_train_data,X_test_data,Y_test_data,NUM_CLASSES,Nepochs):\n",
        "    \n",
        "    Y_train_data = keras.utils.to_categorical(Y_train_data,NUM_CLASSES)\n",
        "    X_train_data = X_train_data.reshape(X_train_data.shape[0],X_train_data.shape[1],X_train_data.shape[2],1)\n",
        "\n",
        "    Y_test_data = keras.utils.to_categorical(Y_test_data,NUM_CLASSES)\n",
        "    X_test_data = X_test_data.reshape(X_test_data.shape[0],X_test_data.shape[1],X_test_data.shape[2],1)\n",
        "    \n",
        "    #X_train, X_test, Y_train, Y_test = train_test_split(X_data,Y_data,test_size = 0.1)\n",
        "\n",
        "    input_shape = tuple(X_train_data[0].shape)\n",
        "    #Model = Conv2D(NUM_CLASSES, input_shape)\n",
        "    #history = Model.fit(\n",
        "    #x=X_train, y=Y_train,\n",
        "    #validation_split = 0.2,\n",
        "    #verbose=2,\n",
        "    #epochs=Nepochs,\n",
        "    #shuffle = True,\n",
        "    #batch_size=32)\n",
        "\n",
        "    Model1 = Conv2D(NUM_CLASSES, input_shape)\n",
        "    history = Model1.fit(\n",
        "    x=X_train_data, y=Y_train_data,\n",
        "    validation_split = 0.2,\n",
        "    verbose=2,\n",
        "    epochs=Nepochs,\n",
        "    shuffle = True,\n",
        "    batch_size=32)\n",
        "\n",
        "    #Model.evaluate(X_test,Y_test)\n",
        "    Model1.evaluate(X_test_data,Y_test_data)\n",
        "\n",
        "    return Model1\n"
      ],
      "execution_count": null,
      "outputs": []
    },
    {
      "cell_type": "code",
      "metadata": {
        "id": "-0qLexwOIN2-"
      },
      "source": [
        "def save_model(model,filename):\n",
        "\n",
        "    model.save(filename)\n",
        "    return"
      ],
      "execution_count": null,
      "outputs": []
    },
    {
      "cell_type": "code",
      "metadata": {
        "id": "OFJXp3LxIvcf"
      },
      "source": [
        "def load_model(filename):\n",
        "    \n",
        "    model = keras.models.load_model(filename)\n",
        "    return model"
      ],
      "execution_count": null,
      "outputs": []
    },
    {
      "cell_type": "markdown",
      "metadata": {
        "id": "N6PbCTxPUNOi"
      },
      "source": [
        "#**EVALUATE AND SAVE**"
      ]
    },
    {
      "cell_type": "code",
      "metadata": {
        "id": "DJtNntboVS6x"
      },
      "source": [
        "d1 = \"/content/drive/MyDrive/project_specs_698/shared_train/audio_train\"\n",
        "d2 = \"/content/drive/MyDrive/project_specs_698/shared_train/labels_train.csv\"\n",
        "X_train_data,X_test_data, Y_train_data,Y_test_data,NUM_CLASSES = train_data(d1,d2)\n",
        "#np.save(\"/content/drive/MyDrive/project_specs_698/shared_train/X.npy\",X_data)\n",
        "#np.save(\"/content/drive/MyDrive/project_specs_698/shared_train/Y.npy\",Y_data)\n"
      ],
      "execution_count": null,
      "outputs": []
    },
    {
      "cell_type": "code",
      "metadata": {
        "colab": {
          "base_uri": "https://localhost:8080/"
        },
        "id": "qRuFMirraIy8",
        "outputId": "4073796b-e272-4b69-ca36-9620021ff97d"
      },
      "source": [
        "X_train_data.shape"
      ],
      "execution_count": null,
      "outputs": [
        {
          "output_type": "execute_result",
          "data": {
            "text/plain": [
              "(1400, 128, 401)"
            ]
          },
          "metadata": {
            "tags": []
          },
          "execution_count": 73
        }
      ]
    },
    {
      "cell_type": "code",
      "metadata": {
        "id": "aaqKlX5zUV9N",
        "colab": {
          "base_uri": "https://localhost:8080/"
        },
        "outputId": "6d652570-c35b-4773-9c69-da8a8ba83773"
      },
      "source": [
        "epochs = 100\n",
        "m= train(X_train_data,Y_train_data,X_test_data,Y_test_data,NUM_CLASSES,epochs)"
      ],
      "execution_count": null,
      "outputs": [
        {
          "output_type": "stream",
          "text": [
            "Epoch 1/100\n",
            "WARNING:tensorflow:Callbacks method `on_train_batch_end` is slow compared to the batch time (batch time: 0.0069s vs `on_train_batch_end` time: 0.0292s). Check your callbacks.\n",
            "35/35 - 1s - loss: 2.1109 - accuracy: 0.2134 - val_loss: 1.9812 - val_accuracy: 0.3429\n",
            "Epoch 2/100\n",
            "35/35 - 1s - loss: 1.7217 - accuracy: 0.4009 - val_loss: 1.7332 - val_accuracy: 0.4500\n",
            "Epoch 3/100\n",
            "35/35 - 1s - loss: 1.4327 - accuracy: 0.5009 - val_loss: 1.4264 - val_accuracy: 0.5357\n",
            "Epoch 4/100\n",
            "35/35 - 1s - loss: 1.2230 - accuracy: 0.5768 - val_loss: 1.3837 - val_accuracy: 0.5679\n",
            "Epoch 5/100\n",
            "35/35 - 1s - loss: 1.0809 - accuracy: 0.6455 - val_loss: 1.1431 - val_accuracy: 0.6750\n",
            "Epoch 6/100\n",
            "35/35 - 1s - loss: 0.9497 - accuracy: 0.7071 - val_loss: 1.1086 - val_accuracy: 0.7036\n",
            "Epoch 7/100\n",
            "35/35 - 1s - loss: 0.8934 - accuracy: 0.7232 - val_loss: 1.0521 - val_accuracy: 0.7321\n",
            "Epoch 8/100\n",
            "35/35 - 1s - loss: 0.8010 - accuracy: 0.7786 - val_loss: 0.9193 - val_accuracy: 0.7500\n",
            "Epoch 9/100\n",
            "35/35 - 1s - loss: 0.7095 - accuracy: 0.8018 - val_loss: 0.8843 - val_accuracy: 0.7393\n",
            "Epoch 10/100\n",
            "35/35 - 1s - loss: 0.6556 - accuracy: 0.8241 - val_loss: 0.8761 - val_accuracy: 0.7429\n",
            "Epoch 11/100\n",
            "35/35 - 1s - loss: 0.5987 - accuracy: 0.8491 - val_loss: 0.8488 - val_accuracy: 0.7464\n",
            "Epoch 12/100\n",
            "35/35 - 1s - loss: 0.5555 - accuracy: 0.8536 - val_loss: 0.7633 - val_accuracy: 0.8000\n",
            "Epoch 13/100\n",
            "35/35 - 1s - loss: 0.5175 - accuracy: 0.8714 - val_loss: 0.8346 - val_accuracy: 0.7643\n",
            "Epoch 14/100\n",
            "35/35 - 1s - loss: 0.4819 - accuracy: 0.8920 - val_loss: 0.7736 - val_accuracy: 0.7821\n",
            "Epoch 15/100\n",
            "35/35 - 1s - loss: 0.4305 - accuracy: 0.9089 - val_loss: 0.7632 - val_accuracy: 0.7821\n",
            "Epoch 16/100\n",
            "35/35 - 1s - loss: 0.4185 - accuracy: 0.9125 - val_loss: 0.7341 - val_accuracy: 0.7929\n",
            "Epoch 17/100\n",
            "35/35 - 1s - loss: 0.3719 - accuracy: 0.9268 - val_loss: 0.6881 - val_accuracy: 0.8000\n",
            "Epoch 18/100\n",
            "35/35 - 1s - loss: 0.3695 - accuracy: 0.9232 - val_loss: 0.6834 - val_accuracy: 0.7964\n",
            "Epoch 19/100\n",
            "35/35 - 1s - loss: 0.3180 - accuracy: 0.9446 - val_loss: 0.6524 - val_accuracy: 0.8143\n",
            "Epoch 20/100\n",
            "35/35 - 1s - loss: 0.3117 - accuracy: 0.9429 - val_loss: 0.6439 - val_accuracy: 0.8214\n",
            "Epoch 21/100\n",
            "35/35 - 1s - loss: 0.2998 - accuracy: 0.9464 - val_loss: 0.6515 - val_accuracy: 0.8107\n",
            "Epoch 22/100\n",
            "35/35 - 1s - loss: 0.2750 - accuracy: 0.9571 - val_loss: 0.6355 - val_accuracy: 0.8179\n",
            "Epoch 23/100\n",
            "35/35 - 1s - loss: 0.2720 - accuracy: 0.9491 - val_loss: 0.6346 - val_accuracy: 0.7929\n",
            "Epoch 24/100\n",
            "35/35 - 1s - loss: 0.2436 - accuracy: 0.9625 - val_loss: 0.6199 - val_accuracy: 0.8107\n",
            "Epoch 25/100\n",
            "35/35 - 1s - loss: 0.2338 - accuracy: 0.9643 - val_loss: 0.6505 - val_accuracy: 0.8036\n",
            "Epoch 26/100\n",
            "35/35 - 1s - loss: 0.2215 - accuracy: 0.9723 - val_loss: 0.5968 - val_accuracy: 0.8107\n",
            "Epoch 27/100\n",
            "35/35 - 1s - loss: 0.2204 - accuracy: 0.9723 - val_loss: 0.6083 - val_accuracy: 0.8214\n",
            "Epoch 28/100\n",
            "35/35 - 1s - loss: 0.2158 - accuracy: 0.9759 - val_loss: 0.6219 - val_accuracy: 0.8250\n",
            "Epoch 29/100\n",
            "35/35 - 1s - loss: 0.2097 - accuracy: 0.9714 - val_loss: 0.5830 - val_accuracy: 0.8250\n",
            "Epoch 30/100\n",
            "35/35 - 1s - loss: 0.1790 - accuracy: 0.9839 - val_loss: 0.5677 - val_accuracy: 0.8357\n",
            "Epoch 31/100\n",
            "35/35 - 1s - loss: 0.1787 - accuracy: 0.9821 - val_loss: 0.5834 - val_accuracy: 0.8286\n",
            "Epoch 32/100\n",
            "35/35 - 1s - loss: 0.1781 - accuracy: 0.9830 - val_loss: 0.5608 - val_accuracy: 0.8286\n",
            "Epoch 33/100\n",
            "35/35 - 1s - loss: 0.1729 - accuracy: 0.9875 - val_loss: 0.6139 - val_accuracy: 0.8429\n",
            "Epoch 34/100\n",
            "35/35 - 1s - loss: 0.1713 - accuracy: 0.9812 - val_loss: 0.5752 - val_accuracy: 0.8464\n",
            "Epoch 35/100\n",
            "35/35 - 1s - loss: 0.1698 - accuracy: 0.9830 - val_loss: 0.6239 - val_accuracy: 0.8250\n",
            "Epoch 36/100\n",
            "35/35 - 1s - loss: 0.1546 - accuracy: 0.9884 - val_loss: 0.5696 - val_accuracy: 0.8536\n",
            "Epoch 37/100\n",
            "35/35 - 1s - loss: 0.1561 - accuracy: 0.9848 - val_loss: 0.5482 - val_accuracy: 0.8464\n",
            "Epoch 38/100\n",
            "35/35 - 1s - loss: 0.1399 - accuracy: 0.9911 - val_loss: 0.5472 - val_accuracy: 0.8429\n",
            "Epoch 39/100\n",
            "35/35 - 1s - loss: 0.1467 - accuracy: 0.9902 - val_loss: 0.5555 - val_accuracy: 0.8393\n",
            "Epoch 40/100\n",
            "35/35 - 1s - loss: 0.1442 - accuracy: 0.9857 - val_loss: 0.5632 - val_accuracy: 0.8571\n",
            "Epoch 41/100\n",
            "35/35 - 1s - loss: 0.1395 - accuracy: 0.9893 - val_loss: 0.5605 - val_accuracy: 0.8429\n",
            "Epoch 42/100\n",
            "35/35 - 1s - loss: 0.1252 - accuracy: 0.9937 - val_loss: 0.5511 - val_accuracy: 0.8429\n",
            "Epoch 43/100\n",
            "35/35 - 1s - loss: 0.1249 - accuracy: 0.9902 - val_loss: 0.5569 - val_accuracy: 0.8571\n",
            "Epoch 44/100\n",
            "35/35 - 1s - loss: 0.1253 - accuracy: 0.9955 - val_loss: 0.5397 - val_accuracy: 0.8464\n",
            "Epoch 45/100\n",
            "35/35 - 1s - loss: 0.1309 - accuracy: 0.9884 - val_loss: 0.5338 - val_accuracy: 0.8500\n",
            "Epoch 46/100\n",
            "35/35 - 1s - loss: 0.1205 - accuracy: 0.9902 - val_loss: 0.5473 - val_accuracy: 0.8429\n",
            "Epoch 47/100\n",
            "35/35 - 1s - loss: 0.1174 - accuracy: 0.9920 - val_loss: 0.5510 - val_accuracy: 0.8429\n",
            "Epoch 48/100\n",
            "35/35 - 1s - loss: 0.1177 - accuracy: 0.9920 - val_loss: 0.5412 - val_accuracy: 0.8464\n",
            "Epoch 49/100\n",
            "35/35 - 1s - loss: 0.1111 - accuracy: 0.9937 - val_loss: 0.5273 - val_accuracy: 0.8500\n",
            "Epoch 50/100\n",
            "35/35 - 1s - loss: 0.1092 - accuracy: 0.9946 - val_loss: 0.5240 - val_accuracy: 0.8607\n",
            "Epoch 51/100\n",
            "35/35 - 1s - loss: 0.1139 - accuracy: 0.9911 - val_loss: 0.5297 - val_accuracy: 0.8429\n",
            "Epoch 52/100\n",
            "35/35 - 1s - loss: 0.1140 - accuracy: 0.9937 - val_loss: 0.5204 - val_accuracy: 0.8393\n",
            "Epoch 53/100\n",
            "35/35 - 1s - loss: 0.1091 - accuracy: 0.9946 - val_loss: 0.5105 - val_accuracy: 0.8536\n",
            "Epoch 54/100\n",
            "35/35 - 1s - loss: 0.1098 - accuracy: 0.9937 - val_loss: 0.5011 - val_accuracy: 0.8429\n",
            "Epoch 55/100\n",
            "35/35 - 1s - loss: 0.0981 - accuracy: 0.9937 - val_loss: 0.5137 - val_accuracy: 0.8429\n",
            "Epoch 56/100\n",
            "35/35 - 1s - loss: 0.0953 - accuracy: 0.9964 - val_loss: 0.4895 - val_accuracy: 0.8679\n",
            "Epoch 57/100\n",
            "35/35 - 1s - loss: 0.1018 - accuracy: 0.9902 - val_loss: 0.4908 - val_accuracy: 0.8679\n",
            "Epoch 58/100\n",
            "35/35 - 1s - loss: 0.0891 - accuracy: 0.9964 - val_loss: 0.4859 - val_accuracy: 0.8571\n",
            "Epoch 59/100\n",
            "35/35 - 1s - loss: 0.0857 - accuracy: 0.9964 - val_loss: 0.4857 - val_accuracy: 0.8679\n",
            "Epoch 60/100\n",
            "35/35 - 1s - loss: 0.0869 - accuracy: 0.9982 - val_loss: 0.4905 - val_accuracy: 0.8571\n",
            "Epoch 61/100\n",
            "35/35 - 1s - loss: 0.0872 - accuracy: 0.9920 - val_loss: 0.5133 - val_accuracy: 0.8500\n",
            "Epoch 62/100\n",
            "35/35 - 1s - loss: 0.0898 - accuracy: 0.9946 - val_loss: 0.4998 - val_accuracy: 0.8500\n",
            "Epoch 63/100\n",
            "35/35 - 1s - loss: 0.0866 - accuracy: 0.9946 - val_loss: 0.4654 - val_accuracy: 0.8643\n",
            "Epoch 64/100\n",
            "35/35 - 1s - loss: 0.0822 - accuracy: 0.9955 - val_loss: 0.5065 - val_accuracy: 0.8571\n",
            "Epoch 65/100\n",
            "35/35 - 1s - loss: 0.0798 - accuracy: 0.9964 - val_loss: 0.4983 - val_accuracy: 0.8500\n",
            "Epoch 66/100\n",
            "35/35 - 1s - loss: 0.0793 - accuracy: 0.9973 - val_loss: 0.5025 - val_accuracy: 0.8321\n",
            "Epoch 67/100\n",
            "35/35 - 1s - loss: 0.0827 - accuracy: 0.9973 - val_loss: 0.4798 - val_accuracy: 0.8536\n",
            "Epoch 68/100\n",
            "35/35 - 1s - loss: 0.0810 - accuracy: 0.9964 - val_loss: 0.4805 - val_accuracy: 0.8536\n",
            "Epoch 69/100\n",
            "35/35 - 1s - loss: 0.0804 - accuracy: 0.9929 - val_loss: 0.4955 - val_accuracy: 0.8536\n",
            "Epoch 70/100\n",
            "35/35 - 1s - loss: 0.0774 - accuracy: 0.9964 - val_loss: 0.5110 - val_accuracy: 0.8607\n",
            "Epoch 71/100\n",
            "35/35 - 1s - loss: 0.0773 - accuracy: 0.9937 - val_loss: 0.4943 - val_accuracy: 0.8571\n",
            "Epoch 72/100\n",
            "35/35 - 1s - loss: 0.0808 - accuracy: 0.9955 - val_loss: 0.5082 - val_accuracy: 0.8536\n",
            "Epoch 73/100\n",
            "35/35 - 1s - loss: 0.0881 - accuracy: 0.9946 - val_loss: 0.4939 - val_accuracy: 0.8321\n",
            "Epoch 74/100\n",
            "35/35 - 1s - loss: 0.0870 - accuracy: 0.9902 - val_loss: 0.5406 - val_accuracy: 0.8286\n",
            "Epoch 75/100\n",
            "35/35 - 1s - loss: 0.0882 - accuracy: 0.9929 - val_loss: 0.4855 - val_accuracy: 0.8536\n",
            "Epoch 76/100\n",
            "35/35 - 1s - loss: 0.0758 - accuracy: 0.9964 - val_loss: 0.5079 - val_accuracy: 0.8393\n",
            "Epoch 77/100\n",
            "35/35 - 1s - loss: 0.0799 - accuracy: 0.9973 - val_loss: 0.4910 - val_accuracy: 0.8643\n",
            "Epoch 78/100\n",
            "35/35 - 1s - loss: 0.0700 - accuracy: 0.9982 - val_loss: 0.4518 - val_accuracy: 0.8607\n",
            "Epoch 79/100\n",
            "35/35 - 1s - loss: 0.0815 - accuracy: 0.9964 - val_loss: 0.4869 - val_accuracy: 0.8643\n",
            "Epoch 80/100\n",
            "35/35 - 1s - loss: 0.0668 - accuracy: 0.9982 - val_loss: 0.4707 - val_accuracy: 0.8643\n",
            "Epoch 81/100\n",
            "35/35 - 1s - loss: 0.0714 - accuracy: 0.9955 - val_loss: 0.4747 - val_accuracy: 0.8536\n",
            "Epoch 82/100\n",
            "35/35 - 1s - loss: 0.0667 - accuracy: 0.9973 - val_loss: 0.4827 - val_accuracy: 0.8607\n",
            "Epoch 83/100\n",
            "35/35 - 1s - loss: 0.0712 - accuracy: 0.9973 - val_loss: 0.4907 - val_accuracy: 0.8429\n",
            "Epoch 84/100\n",
            "35/35 - 1s - loss: 0.0685 - accuracy: 0.9973 - val_loss: 0.4592 - val_accuracy: 0.8607\n",
            "Epoch 85/100\n",
            "35/35 - 1s - loss: 0.0625 - accuracy: 0.9982 - val_loss: 0.4562 - val_accuracy: 0.8607\n",
            "Epoch 86/100\n",
            "35/35 - 1s - loss: 0.0692 - accuracy: 0.9929 - val_loss: 0.4765 - val_accuracy: 0.8643\n",
            "Epoch 87/100\n",
            "35/35 - 1s - loss: 0.0627 - accuracy: 0.9982 - val_loss: 0.4657 - val_accuracy: 0.8821\n",
            "Epoch 88/100\n",
            "35/35 - 1s - loss: 0.0570 - accuracy: 1.0000 - val_loss: 0.4664 - val_accuracy: 0.8679\n",
            "Epoch 89/100\n",
            "35/35 - 1s - loss: 0.0577 - accuracy: 0.9991 - val_loss: 0.4560 - val_accuracy: 0.8750\n",
            "Epoch 90/100\n",
            "35/35 - 1s - loss: 0.0574 - accuracy: 0.9982 - val_loss: 0.4578 - val_accuracy: 0.8571\n",
            "Epoch 91/100\n",
            "35/35 - 1s - loss: 0.0549 - accuracy: 0.9982 - val_loss: 0.4554 - val_accuracy: 0.8464\n",
            "Epoch 92/100\n",
            "35/35 - 1s - loss: 0.0595 - accuracy: 0.9982 - val_loss: 0.4389 - val_accuracy: 0.8714\n",
            "Epoch 93/100\n",
            "35/35 - 1s - loss: 0.0606 - accuracy: 0.9982 - val_loss: 0.4868 - val_accuracy: 0.8464\n",
            "Epoch 94/100\n",
            "35/35 - 1s - loss: 0.0567 - accuracy: 0.9982 - val_loss: 0.4841 - val_accuracy: 0.8500\n",
            "Epoch 95/100\n",
            "35/35 - 1s - loss: 0.0598 - accuracy: 0.9982 - val_loss: 0.5060 - val_accuracy: 0.8607\n",
            "Epoch 96/100\n",
            "35/35 - 1s - loss: 0.0585 - accuracy: 0.9991 - val_loss: 0.4850 - val_accuracy: 0.8464\n",
            "Epoch 97/100\n",
            "35/35 - 1s - loss: 0.0596 - accuracy: 0.9973 - val_loss: 0.4659 - val_accuracy: 0.8571\n",
            "Epoch 98/100\n",
            "35/35 - 1s - loss: 0.0518 - accuracy: 1.0000 - val_loss: 0.4474 - val_accuracy: 0.8786\n",
            "Epoch 99/100\n",
            "35/35 - 1s - loss: 0.0531 - accuracy: 0.9982 - val_loss: 0.4629 - val_accuracy: 0.8571\n",
            "Epoch 100/100\n",
            "35/35 - 1s - loss: 0.0487 - accuracy: 0.9991 - val_loss: 0.4687 - val_accuracy: 0.8536\n",
            "12/12 [==============================] - 0s 12ms/step - loss: 0.4086 - accuracy: 0.8892\n"
          ],
          "name": "stdout"
        }
      ]
    },
    {
      "cell_type": "code",
      "metadata": {
        "id": "dbNwP7tkZsM5",
        "colab": {
          "base_uri": "https://localhost:8080/"
        },
        "outputId": "63867ebc-5c2d-4100-f515-cb75e3a3d9ff"
      },
      "source": [
        "save_model(m,\"/content/drive/MyDrive/my_model_edited\")\n",
        "np.save(\"/content/drive/MyDrive/my_model_edited/X_train_data\",X_train_data)\n",
        "np.save(\"/content/drive/MyDrive/my_model_edited/X_test_data\",X_test_data)\n",
        "np.save(\"/content/drive/MyDrive/my_model_edited/Y_train_data\",Y_train_data)\n",
        "np.save(\"/content/drive/MyDrive/my_model_edited/Y_test_data\",Y_test_data)"
      ],
      "execution_count": null,
      "outputs": [
        {
          "output_type": "stream",
          "text": [
            "INFO:tensorflow:Assets written to: /content/drive/MyDrive/my_model_edited/assets\n"
          ],
          "name": "stdout"
        }
      ]
    },
    {
      "cell_type": "code",
      "metadata": {
        "id": "xF9k6GXhrG6n",
        "colab": {
          "base_uri": "https://localhost:8080/"
        },
        "outputId": "86bf4dc3-2967-4d07-c809-e4fe272b2c65"
      },
      "source": [
        "df = pd.read_csv(\"/content/drive/MyDrive/project_specs_698/shared_train/labels_train.csv\")\n",
        "Labels = list(df['class'].unique())\n",
        "Labels_int = list(range(len(Labels)))\n",
        "NUM_CLASSES = len(Labels_int)\n",
        "map_char_to_int = dict(zip(Labels,Labels_int))\n",
        "map_char_to_int"
      ],
      "execution_count": null,
      "outputs": [
        {
          "output_type": "execute_result",
          "data": {
            "text/plain": [
              "{'air_conditioner': 8,\n",
              " 'car_horn': 9,\n",
              " 'children_playing': 6,\n",
              " 'dog_bark': 0,\n",
              " 'drilling': 5,\n",
              " 'engine_idling': 2,\n",
              " 'gun_shot': 1,\n",
              " 'jackhammer': 4,\n",
              " 'siren': 3,\n",
              " 'street_music': 7}"
            ]
          },
          "metadata": {
            "tags": []
          },
          "execution_count": 34
        }
      ]
    },
    {
      "cell_type": "code",
      "metadata": {
        "id": "P2KeW21rcyRz"
      },
      "source": [
        "m= load_model(\"/content/drive/MyDrive/my_model_edited\")"
      ],
      "execution_count": null,
      "outputs": []
    },
    {
      "cell_type": "code",
      "metadata": {
        "id": "XAeYy_uSRXPS",
        "colab": {
          "base_uri": "https://localhost:8080/"
        },
        "outputId": "2a3bcade-83ba-4eb9-a109-75de3718c2e1"
      },
      "source": [
        "m.summary()"
      ],
      "execution_count": null,
      "outputs": [
        {
          "output_type": "stream",
          "text": [
            "Model: \"2d_convolution\"\n",
            "_________________________________________________________________\n",
            "Layer (type)                 Output Shape              Param #   \n",
            "=================================================================\n",
            "input_7 (InputLayer)         [(None, 128, 401, 1)]     0         \n",
            "_________________________________________________________________\n",
            "batch_norm (LayerNormalizati (None, 128, 401, 1)       802       \n",
            "_________________________________________________________________\n",
            "conv2d_relu_1 (Conv2D)       (None, 128, 401, 8)       400       \n",
            "_________________________________________________________________\n",
            "max_pool_2d_1 (MaxPooling2D) (None, 64, 201, 8)        0         \n",
            "_________________________________________________________________\n",
            "dropout_1 (Dropout)          (None, 64, 201, 8)        0         \n",
            "_________________________________________________________________\n",
            "conv2d_relu_2 (Conv2D)       (None, 64, 201, 16)       3216      \n",
            "_________________________________________________________________\n",
            "max_pool_2d_2 (MaxPooling2D) (None, 32, 101, 16)       0         \n",
            "_________________________________________________________________\n",
            "dropout_2 (Dropout)          (None, 32, 101, 16)       0         \n",
            "_________________________________________________________________\n",
            "conv2d_relu_3 (Conv2D)       (None, 32, 101, 16)       2320      \n",
            "_________________________________________________________________\n",
            "max_pool_2d_3 (MaxPooling2D) (None, 16, 51, 16)        0         \n",
            "_________________________________________________________________\n",
            "dropout_3 (Dropout)          (None, 16, 51, 16)        0         \n",
            "_________________________________________________________________\n",
            "conv2d_relu_4 (Conv2D)       (None, 16, 51, 32)        4640      \n",
            "_________________________________________________________________\n",
            "max_pool_2d_4 (MaxPooling2D) (None, 8, 26, 32)         0         \n",
            "_________________________________________________________________\n",
            "dropout_4 (Dropout)          (None, 8, 26, 32)         0         \n",
            "_________________________________________________________________\n",
            "max_pool_2d_5 (MaxPooling2D) (None, 4, 13, 32)         0         \n",
            "_________________________________________________________________\n",
            "flatten (Flatten)            (None, 1664)              0         \n",
            "_________________________________________________________________\n",
            "dropout_5 (Dropout)          (None, 1664)              0         \n",
            "_________________________________________________________________\n",
            "dense (Dense)                (None, 64)                106560    \n",
            "_________________________________________________________________\n",
            "softmax (Dense)              (None, 10)                650       \n",
            "=================================================================\n",
            "Total params: 118,588\n",
            "Trainable params: 118,588\n",
            "Non-trainable params: 0\n",
            "_________________________________________________________________\n"
          ],
          "name": "stdout"
        }
      ]
    },
    {
      "cell_type": "code",
      "metadata": {
        "id": "yFHRGoCge1LS",
        "colab": {
          "base_uri": "https://localhost:8080/"
        },
        "outputId": "9683a146-19cf-48ce-bcb0-dcc1ee8d39c3"
      },
      "source": [
        "############################SAMPLE TEST########################################\n",
        "\n",
        "lst= []\n",
        "direc = \"/content/drive/MyDrive/project_specs_698/shared_train/sample_test_task1/feats\"\n",
        "f = os.fsencode(direc)\n",
        "\n",
        "for fil in os.listdir(f):\n",
        "  fi = os.fsdecode(fil)\n",
        "  print(fi)\n",
        "  X = np.load(direc+\"/\"+fi)\n",
        "  X = process(X)\n",
        "  #X = X.reshape(X.shape[0],X.shape[1],1) \n",
        "  #print(X.shape)   \n",
        "  lst.append(X)\n",
        "\n",
        "lst = np.array(lst)\n",
        "lst = lst.reshape(lst.shape[0],lst.shape[1],lst.shape[2],1)\n",
        "lst.shape"
      ],
      "execution_count": null,
      "outputs": [
        {
          "output_type": "stream",
          "text": [
            "a00005.npy\n",
            "a00006.npy\n",
            "a00002.npy\n",
            "a00004.npy\n",
            "a00003.npy\n",
            "a00008.npy\n",
            "a00009.npy\n",
            "a00010.npy\n",
            "a00007.npy\n",
            "a00001.npy\n"
          ],
          "name": "stdout"
        },
        {
          "output_type": "execute_result",
          "data": {
            "text/plain": [
              "(10, 128, 401, 1)"
            ]
          },
          "metadata": {
            "tags": []
          },
          "execution_count": 13
        }
      ]
    },
    {
      "cell_type": "code",
      "metadata": {
        "id": "ZarKZiU2LY_E"
      },
      "source": [
        "def map(Y_pred,map_char_to_int):\n",
        "  Y_pred_char = []\n",
        "\n",
        "  for i in range(Y_pred.size):\n",
        "    for key in map_char_to_int.keys():\n",
        "      if(map_char_to_int[key]==Y_pred[i]):\n",
        "        Y_pred_char.append(key)\n",
        "        break\n",
        "\n",
        "  return Y_pred_char  "
      ],
      "execution_count": null,
      "outputs": []
    },
    {
      "cell_type": "code",
      "metadata": {
        "colab": {
          "base_uri": "https://localhost:8080/"
        },
        "id": "mNlZmbEZLtK0",
        "outputId": "180891d2-e729-42e7-b212-aeda9d562cb8"
      },
      "source": [
        "a = np.argmax(m.predict(lst),axis=1)\n",
        "map(a,map_char_to_int)"
      ],
      "execution_count": null,
      "outputs": [
        {
          "output_type": "execute_result",
          "data": {
            "text/plain": [
              "['jackhammer',\n",
              " 'dog_bark',\n",
              " 'drilling',\n",
              " 'street_music',\n",
              " 'drilling',\n",
              " 'drilling',\n",
              " 'engine_idling',\n",
              " 'dog_bark',\n",
              " 'children_playing',\n",
              " 'drilling']"
            ]
          },
          "metadata": {
            "tags": []
          },
          "execution_count": 83
        }
      ]
    },
    {
      "cell_type": "code",
      "metadata": {
        "id": "KiqyD2gad6r3"
      },
      "source": [
        "####################### EVALUATION ON TEST SET ####################################\n",
        "\n",
        "directory = \"/content/drive/MyDrive/feats\"\n",
        "direc = os.fsencode(directory)\n",
        "lis_dir = {}\n",
        "for np_fil in os.listdir(direc):\n",
        "  fil = os.fsdecode(np_fil)\n",
        "  X = process(np.load(directory+\"/\"+fil))\n",
        "  #print(X.shape)\n",
        "  label = np.argmax(m.predict(np.array([X])),axis=1)\n",
        "  for key in map_char_to_int.keys():\n",
        "    if(map_char_to_int[key]==label):\n",
        "      lis_dir[fil]=key\n",
        "      break"
      ],
      "execution_count": null,
      "outputs": []
    },
    {
      "cell_type": "code",
      "metadata": {
        "colab": {
          "base_uri": "https://localhost:8080/"
        },
        "id": "X-r8mGrjhEut",
        "outputId": "88a5f96f-4bac-4755-a645-e9f484322fa9"
      },
      "source": [
        "lis_dir"
      ],
      "execution_count": null,
      "outputs": [
        {
          "output_type": "execute_result",
          "data": {
            "text/plain": [
              "{'a001.npy': 'jackhammer',\n",
              " 'a002.npy': 'street_music',\n",
              " 'a003.npy': 'engine_idling',\n",
              " 'a004.npy': 'engine_idling',\n",
              " 'a005.npy': 'dog_bark',\n",
              " 'a006.npy': 'children_playing',\n",
              " 'a007.npy': 'drilling',\n",
              " 'a008.npy': 'engine_idling',\n",
              " 'a009.npy': 'air_conditioner',\n",
              " 'a010.npy': 'dog_bark',\n",
              " 'a011.npy': 'dog_bark',\n",
              " 'a012.npy': 'engine_idling',\n",
              " 'a013.npy': 'children_playing',\n",
              " 'a014.npy': 'car_horn',\n",
              " 'a015.npy': 'air_conditioner',\n",
              " 'a016.npy': 'street_music',\n",
              " 'a017.npy': 'children_playing',\n",
              " 'a018.npy': 'dog_bark',\n",
              " 'a019.npy': 'gun_shot',\n",
              " 'a020.npy': 'drilling',\n",
              " 'a021.npy': 'jackhammer',\n",
              " 'a022.npy': 'engine_idling',\n",
              " 'a023.npy': 'gun_shot',\n",
              " 'a024.npy': 'air_conditioner',\n",
              " 'a025.npy': 'air_conditioner',\n",
              " 'a026.npy': 'jackhammer',\n",
              " 'a027.npy': 'drilling',\n",
              " 'a028.npy': 'drilling',\n",
              " 'a029.npy': 'children_playing',\n",
              " 'a030.npy': 'children_playing',\n",
              " 'a031.npy': 'children_playing',\n",
              " 'a032.npy': 'street_music',\n",
              " 'a033.npy': 'siren',\n",
              " 'a034.npy': 'siren',\n",
              " 'a035.npy': 'children_playing',\n",
              " 'a036.npy': 'siren',\n",
              " 'a037.npy': 'dog_bark',\n",
              " 'a038.npy': 'gun_shot',\n",
              " 'a039.npy': 'air_conditioner',\n",
              " 'a040.npy': 'gun_shot',\n",
              " 'a041.npy': 'drilling',\n",
              " 'a042.npy': 'drilling',\n",
              " 'a043.npy': 'siren',\n",
              " 'a044.npy': 'jackhammer',\n",
              " 'a045.npy': 'dog_bark',\n",
              " 'a046.npy': 'children_playing',\n",
              " 'a047.npy': 'street_music',\n",
              " 'a048.npy': 'street_music',\n",
              " 'a049.npy': 'children_playing',\n",
              " 'a050.npy': 'dog_bark'}"
            ]
          },
          "metadata": {
            "tags": []
          },
          "execution_count": 49
        }
      ]
    },
    {
      "cell_type": "code",
      "metadata": {
        "id": "BnGvMkPCi4jC"
      },
      "source": [
        "########################## Converting to .csv ##################################\n",
        "\n",
        "import csv\n",
        "field_names = ['file_name','Predicted_label']\n",
        "with open('test.csv','w') as f:\n",
        "  csv.DictWriter(f,fieldnames = field_names)\n",
        "  for key in lis_dir.keys():\n",
        "    f.write(\"%s,%s\\n\"%(key,lis_dir[key]))"
      ],
      "execution_count": null,
      "outputs": []
    },
    {
      "cell_type": "code",
      "metadata": {
        "id": "a_qbj5WumBws"
      },
      "source": [
        "df = pd.read_csv(\"test.csv\")"
      ],
      "execution_count": null,
      "outputs": []
    },
    {
      "cell_type": "code",
      "metadata": {
        "colab": {
          "base_uri": "https://localhost:8080/",
          "height": 1000
        },
        "id": "bSabnRPmmHuB",
        "outputId": "47274ffb-b275-46cb-a81c-aac85ffd8068"
      },
      "source": [
        "df"
      ],
      "execution_count": null,
      "outputs": [
        {
          "output_type": "execute_result",
          "data": {
            "text/html": [
              "<div>\n",
              "<style scoped>\n",
              "    .dataframe tbody tr th:only-of-type {\n",
              "        vertical-align: middle;\n",
              "    }\n",
              "\n",
              "    .dataframe tbody tr th {\n",
              "        vertical-align: top;\n",
              "    }\n",
              "\n",
              "    .dataframe thead th {\n",
              "        text-align: right;\n",
              "    }\n",
              "</style>\n",
              "<table border=\"1\" class=\"dataframe\">\n",
              "  <thead>\n",
              "    <tr style=\"text-align: right;\">\n",
              "      <th></th>\n",
              "      <th>a002.npy</th>\n",
              "      <th>street_music</th>\n",
              "    </tr>\n",
              "  </thead>\n",
              "  <tbody>\n",
              "    <tr>\n",
              "      <th>0</th>\n",
              "      <td>a001.npy</td>\n",
              "      <td>jackhammer</td>\n",
              "    </tr>\n",
              "    <tr>\n",
              "      <th>1</th>\n",
              "      <td>a003.npy</td>\n",
              "      <td>engine_idling</td>\n",
              "    </tr>\n",
              "    <tr>\n",
              "      <th>2</th>\n",
              "      <td>a004.npy</td>\n",
              "      <td>engine_idling</td>\n",
              "    </tr>\n",
              "    <tr>\n",
              "      <th>3</th>\n",
              "      <td>a005.npy</td>\n",
              "      <td>dog_bark</td>\n",
              "    </tr>\n",
              "    <tr>\n",
              "      <th>4</th>\n",
              "      <td>a007.npy</td>\n",
              "      <td>drilling</td>\n",
              "    </tr>\n",
              "    <tr>\n",
              "      <th>5</th>\n",
              "      <td>a008.npy</td>\n",
              "      <td>engine_idling</td>\n",
              "    </tr>\n",
              "    <tr>\n",
              "      <th>6</th>\n",
              "      <td>a006.npy</td>\n",
              "      <td>children_playing</td>\n",
              "    </tr>\n",
              "    <tr>\n",
              "      <th>7</th>\n",
              "      <td>a009.npy</td>\n",
              "      <td>air_conditioner</td>\n",
              "    </tr>\n",
              "    <tr>\n",
              "      <th>8</th>\n",
              "      <td>a011.npy</td>\n",
              "      <td>dog_bark</td>\n",
              "    </tr>\n",
              "    <tr>\n",
              "      <th>9</th>\n",
              "      <td>a012.npy</td>\n",
              "      <td>engine_idling</td>\n",
              "    </tr>\n",
              "    <tr>\n",
              "      <th>10</th>\n",
              "      <td>a010.npy</td>\n",
              "      <td>dog_bark</td>\n",
              "    </tr>\n",
              "    <tr>\n",
              "      <th>11</th>\n",
              "      <td>a013.npy</td>\n",
              "      <td>children_playing</td>\n",
              "    </tr>\n",
              "    <tr>\n",
              "      <th>12</th>\n",
              "      <td>a014.npy</td>\n",
              "      <td>car_horn</td>\n",
              "    </tr>\n",
              "    <tr>\n",
              "      <th>13</th>\n",
              "      <td>a016.npy</td>\n",
              "      <td>street_music</td>\n",
              "    </tr>\n",
              "    <tr>\n",
              "      <th>14</th>\n",
              "      <td>a015.npy</td>\n",
              "      <td>air_conditioner</td>\n",
              "    </tr>\n",
              "    <tr>\n",
              "      <th>15</th>\n",
              "      <td>a017.npy</td>\n",
              "      <td>children_playing</td>\n",
              "    </tr>\n",
              "    <tr>\n",
              "      <th>16</th>\n",
              "      <td>a019.npy</td>\n",
              "      <td>gun_shot</td>\n",
              "    </tr>\n",
              "    <tr>\n",
              "      <th>17</th>\n",
              "      <td>a018.npy</td>\n",
              "      <td>dog_bark</td>\n",
              "    </tr>\n",
              "    <tr>\n",
              "      <th>18</th>\n",
              "      <td>a022.npy</td>\n",
              "      <td>engine_idling</td>\n",
              "    </tr>\n",
              "    <tr>\n",
              "      <th>19</th>\n",
              "      <td>a020.npy</td>\n",
              "      <td>drilling</td>\n",
              "    </tr>\n",
              "    <tr>\n",
              "      <th>20</th>\n",
              "      <td>a021.npy</td>\n",
              "      <td>jackhammer</td>\n",
              "    </tr>\n",
              "    <tr>\n",
              "      <th>21</th>\n",
              "      <td>a026.npy</td>\n",
              "      <td>jackhammer</td>\n",
              "    </tr>\n",
              "    <tr>\n",
              "      <th>22</th>\n",
              "      <td>a025.npy</td>\n",
              "      <td>air_conditioner</td>\n",
              "    </tr>\n",
              "    <tr>\n",
              "      <th>23</th>\n",
              "      <td>a023.npy</td>\n",
              "      <td>gun_shot</td>\n",
              "    </tr>\n",
              "    <tr>\n",
              "      <th>24</th>\n",
              "      <td>a024.npy</td>\n",
              "      <td>air_conditioner</td>\n",
              "    </tr>\n",
              "    <tr>\n",
              "      <th>25</th>\n",
              "      <td>a028.npy</td>\n",
              "      <td>drilling</td>\n",
              "    </tr>\n",
              "    <tr>\n",
              "      <th>26</th>\n",
              "      <td>a029.npy</td>\n",
              "      <td>children_playing</td>\n",
              "    </tr>\n",
              "    <tr>\n",
              "      <th>27</th>\n",
              "      <td>a027.npy</td>\n",
              "      <td>drilling</td>\n",
              "    </tr>\n",
              "    <tr>\n",
              "      <th>28</th>\n",
              "      <td>a031.npy</td>\n",
              "      <td>children_playing</td>\n",
              "    </tr>\n",
              "    <tr>\n",
              "      <th>29</th>\n",
              "      <td>a030.npy</td>\n",
              "      <td>children_playing</td>\n",
              "    </tr>\n",
              "    <tr>\n",
              "      <th>30</th>\n",
              "      <td>a033.npy</td>\n",
              "      <td>siren</td>\n",
              "    </tr>\n",
              "    <tr>\n",
              "      <th>31</th>\n",
              "      <td>a032.npy</td>\n",
              "      <td>street_music</td>\n",
              "    </tr>\n",
              "    <tr>\n",
              "      <th>32</th>\n",
              "      <td>a036.npy</td>\n",
              "      <td>siren</td>\n",
              "    </tr>\n",
              "    <tr>\n",
              "      <th>33</th>\n",
              "      <td>a034.npy</td>\n",
              "      <td>siren</td>\n",
              "    </tr>\n",
              "    <tr>\n",
              "      <th>34</th>\n",
              "      <td>a035.npy</td>\n",
              "      <td>children_playing</td>\n",
              "    </tr>\n",
              "    <tr>\n",
              "      <th>35</th>\n",
              "      <td>a037.npy</td>\n",
              "      <td>dog_bark</td>\n",
              "    </tr>\n",
              "    <tr>\n",
              "      <th>36</th>\n",
              "      <td>a039.npy</td>\n",
              "      <td>air_conditioner</td>\n",
              "    </tr>\n",
              "    <tr>\n",
              "      <th>37</th>\n",
              "      <td>a038.npy</td>\n",
              "      <td>gun_shot</td>\n",
              "    </tr>\n",
              "    <tr>\n",
              "      <th>38</th>\n",
              "      <td>a040.npy</td>\n",
              "      <td>gun_shot</td>\n",
              "    </tr>\n",
              "    <tr>\n",
              "      <th>39</th>\n",
              "      <td>a041.npy</td>\n",
              "      <td>drilling</td>\n",
              "    </tr>\n",
              "    <tr>\n",
              "      <th>40</th>\n",
              "      <td>a042.npy</td>\n",
              "      <td>drilling</td>\n",
              "    </tr>\n",
              "    <tr>\n",
              "      <th>41</th>\n",
              "      <td>a043.npy</td>\n",
              "      <td>siren</td>\n",
              "    </tr>\n",
              "    <tr>\n",
              "      <th>42</th>\n",
              "      <td>a044.npy</td>\n",
              "      <td>jackhammer</td>\n",
              "    </tr>\n",
              "    <tr>\n",
              "      <th>43</th>\n",
              "      <td>a045.npy</td>\n",
              "      <td>dog_bark</td>\n",
              "    </tr>\n",
              "    <tr>\n",
              "      <th>44</th>\n",
              "      <td>a046.npy</td>\n",
              "      <td>children_playing</td>\n",
              "    </tr>\n",
              "    <tr>\n",
              "      <th>45</th>\n",
              "      <td>a047.npy</td>\n",
              "      <td>street_music</td>\n",
              "    </tr>\n",
              "    <tr>\n",
              "      <th>46</th>\n",
              "      <td>a048.npy</td>\n",
              "      <td>street_music</td>\n",
              "    </tr>\n",
              "    <tr>\n",
              "      <th>47</th>\n",
              "      <td>a049.npy</td>\n",
              "      <td>children_playing</td>\n",
              "    </tr>\n",
              "    <tr>\n",
              "      <th>48</th>\n",
              "      <td>a050.npy</td>\n",
              "      <td>dog_bark</td>\n",
              "    </tr>\n",
              "  </tbody>\n",
              "</table>\n",
              "</div>"
            ],
            "text/plain": [
              "    a002.npy      street_music\n",
              "0   a001.npy        jackhammer\n",
              "1   a003.npy     engine_idling\n",
              "2   a004.npy     engine_idling\n",
              "3   a005.npy          dog_bark\n",
              "4   a007.npy          drilling\n",
              "5   a008.npy     engine_idling\n",
              "6   a006.npy  children_playing\n",
              "7   a009.npy   air_conditioner\n",
              "8   a011.npy          dog_bark\n",
              "9   a012.npy     engine_idling\n",
              "10  a010.npy          dog_bark\n",
              "11  a013.npy  children_playing\n",
              "12  a014.npy          car_horn\n",
              "13  a016.npy      street_music\n",
              "14  a015.npy   air_conditioner\n",
              "15  a017.npy  children_playing\n",
              "16  a019.npy          gun_shot\n",
              "17  a018.npy          dog_bark\n",
              "18  a022.npy     engine_idling\n",
              "19  a020.npy          drilling\n",
              "20  a021.npy        jackhammer\n",
              "21  a026.npy        jackhammer\n",
              "22  a025.npy   air_conditioner\n",
              "23  a023.npy          gun_shot\n",
              "24  a024.npy   air_conditioner\n",
              "25  a028.npy          drilling\n",
              "26  a029.npy  children_playing\n",
              "27  a027.npy          drilling\n",
              "28  a031.npy  children_playing\n",
              "29  a030.npy  children_playing\n",
              "30  a033.npy             siren\n",
              "31  a032.npy      street_music\n",
              "32  a036.npy             siren\n",
              "33  a034.npy             siren\n",
              "34  a035.npy  children_playing\n",
              "35  a037.npy          dog_bark\n",
              "36  a039.npy   air_conditioner\n",
              "37  a038.npy          gun_shot\n",
              "38  a040.npy          gun_shot\n",
              "39  a041.npy          drilling\n",
              "40  a042.npy          drilling\n",
              "41  a043.npy             siren\n",
              "42  a044.npy        jackhammer\n",
              "43  a045.npy          dog_bark\n",
              "44  a046.npy  children_playing\n",
              "45  a047.npy      street_music\n",
              "46  a048.npy      street_music\n",
              "47  a049.npy  children_playing\n",
              "48  a050.npy          dog_bark"
            ]
          },
          "metadata": {
            "tags": []
          },
          "execution_count": 45
        }
      ]
    },
    {
      "cell_type": "code",
      "metadata": {
        "id": "017Z6qrcmIfi"
      },
      "source": [
        ""
      ],
      "execution_count": null,
      "outputs": []
    }
  ]
}