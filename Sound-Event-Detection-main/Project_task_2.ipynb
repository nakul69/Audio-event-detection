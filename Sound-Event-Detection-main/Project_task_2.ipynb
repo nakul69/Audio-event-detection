{
  "nbformat": 4,
  "nbformat_minor": 0,
  "metadata": {
    "colab": {
      "name": "Project_task_2.ipynb",
      "provenance": []
    },
    "kernelspec": {
      "name": "python3",
      "display_name": "Python 3"
    },
    "accelerator": "GPU"
  },
  "cells": [
    {
      "cell_type": "code",
      "metadata": {
        "id": "JTyu8dyT3mau"
      },
      "source": [
        "import tensorflow as tf\n",
        "tf.keras.backend.clear_session()"
      ],
      "execution_count": null,
      "outputs": []
    },
    {
      "cell_type": "code",
      "metadata": {
        "colab": {
          "base_uri": "https://localhost:8080/"
        },
        "id": "ffOjTfBFCbPN",
        "outputId": "9fa97738-9863-4e89-8bd4-93e310821ec3"
      },
      "source": [
        "from google.colab import drive\n",
        "drive.mount(\"/content/drive\")"
      ],
      "execution_count": null,
      "outputs": [
        {
          "output_type": "stream",
          "text": [
            "Mounted at /content/drive\n"
          ],
          "name": "stdout"
        }
      ]
    },
    {
      "cell_type": "code",
      "metadata": {
        "colab": {
          "base_uri": "https://localhost:8080/"
        },
        "id": "T4oe3O3Xn4-B",
        "outputId": "3edb7ea9-dff2-4b06-edb2-7c5359489c90"
      },
      "source": [
        "pip install python-Levenshtein"
      ],
      "execution_count": null,
      "outputs": [
        {
          "output_type": "stream",
          "text": [
            "Collecting python-Levenshtein\n",
            "\u001b[?25l  Downloading https://files.pythonhosted.org/packages/42/a9/d1785c85ebf9b7dfacd08938dd028209c34a0ea3b1bcdb895208bd40a67d/python-Levenshtein-0.12.0.tar.gz (48kB)\n",
            "\r\u001b[K     |██████▊                         | 10kB 29.8MB/s eta 0:00:01\r\u001b[K     |█████████████▌                  | 20kB 28.3MB/s eta 0:00:01\r\u001b[K     |████████████████████▏           | 30kB 21.4MB/s eta 0:00:01\r\u001b[K     |███████████████████████████     | 40kB 18.8MB/s eta 0:00:01\r\u001b[K     |████████████████████████████████| 51kB 6.9MB/s \n",
            "\u001b[?25hRequirement already satisfied: setuptools in /usr/local/lib/python3.6/dist-packages (from python-Levenshtein) (50.3.2)\n",
            "Building wheels for collected packages: python-Levenshtein\n",
            "  Building wheel for python-Levenshtein (setup.py) ... \u001b[?25l\u001b[?25hdone\n",
            "  Created wheel for python-Levenshtein: filename=python_Levenshtein-0.12.0-cp36-cp36m-linux_x86_64.whl size=144790 sha256=4ae5e562de8e48c79ddabd359623ae3e0e417aff282f7c9c908def0502e01b10\n",
            "  Stored in directory: /root/.cache/pip/wheels/de/c2/93/660fd5f7559049268ad2dc6d81c4e39e9e36518766eaf7e342\n",
            "Successfully built python-Levenshtein\n",
            "Installing collected packages: python-Levenshtein\n",
            "Successfully installed python-Levenshtein-0.12.0\n"
          ],
          "name": "stdout"
        }
      ]
    },
    {
      "cell_type": "code",
      "metadata": {
        "id": "we_WzVFACnnO"
      },
      "source": [
        "import librosa\n",
        "import numpy as np\n",
        "import pdb\n",
        "import string\n",
        "import pandas as pd\n",
        "from Levenshtein import distance"
      ],
      "execution_count": null,
      "outputs": []
    },
    {
      "cell_type": "code",
      "metadata": {
        "id": "7m8jTeskRp9g"
      },
      "source": [
        "def wavs2feat(wavfiles):\n",
        "    '''\n",
        "    Concatenate the audio files listed in wavfiles\n",
        "    Input: list of audio wav file names\n",
        "    Output: Magnitude spectrogram of concatenated wav\n",
        "    '''\n",
        "    x = []\n",
        "\n",
        "    for wf in wavfiles:\n",
        "        x1, Fs = librosa.load(wf, sr=44100, mono=True)\n",
        "        x.append(x1)\n",
        "\n",
        "    hop = int(0.01 * Fs) # 10ms\n",
        "    win = int(0.02 * Fs) # 20ms\n",
        "    X = np.hstack(x)\n",
        "    X = librosa.stft(X, n_fft=1024, hop_length=hop, win_length=win, window='hann', center=True, pad_mode='reflect')\n",
        "    X = np.abs(X)\n",
        "    X_db = process(X)\n",
        "    return X_db\n",
        "\n",
        "def read_csv(filename):\n",
        "    id_label = {}\n",
        "    with open(filename,'r') as fid:\n",
        "        for line in fid: # '176787-5-0-27.wav,engine_idling\\n'\n",
        "            tokens = line.strip().split(',') # ['176787-5-0-27.wav', 'engine_idling']\n",
        "            id_label[tokens[0]] = tokens[1]\n",
        "    return id_label\n",
        "\n",
        "def process(X):\n",
        "\n",
        "    if(X.shape[1]<2001):\n",
        "      pad_size = 2001 - X.shape[1]\n",
        "      zero_x = np.zeros((X.shape[0],pad_size))\n",
        "      X = np.hstack((X,zero_x))\n",
        "\n",
        "    n_mels = 128\n",
        "    mel = librosa.filters.mel(sr=44100, n_fft=1024, n_mels=n_mels)\n",
        "    X_db = mel.dot(X)\n",
        "    return X_db"
      ],
      "execution_count": null,
      "outputs": []
    },
    {
      "cell_type": "code",
      "metadata": {
        "id": "NEuuSceULDgB"
      },
      "source": [
        "import numpy as np\n",
        "import random\n",
        "import pandas as pd"
      ],
      "execution_count": null,
      "outputs": []
    },
    {
      "cell_type": "code",
      "metadata": {
        "colab": {
          "base_uri": "https://localhost:8080/"
        },
        "id": "edlaNkqLDUm4",
        "outputId": "c2426bf7-a4e9-4d7c-e90d-16d47a35b0a8"
      },
      "source": [
        "df = pd.read_csv(\"/content/drive/MyDrive/project_specs_698/shared_train/labels_train.csv\")\n",
        "Labels = list(df['class'].unique())\n",
        "Labels_int = list(range(len(Labels)))\n",
        "map_char_to_int = dict(zip(Labels,Labels_int))\n",
        "print(map_char_to_int)\n",
        "a = [0]*10\n",
        "for i in df['class']:\n",
        "  a[map_char_to_int[i]]+=1\n",
        "print(a)"
      ],
      "execution_count": null,
      "outputs": [
        {
          "output_type": "stream",
          "text": [
            "{'dog_bark': 0, 'gun_shot': 1, 'engine_idling': 2, 'siren': 3, 'jackhammer': 4, 'drilling': 5, 'children_playing': 6, 'street_music': 7, 'air_conditioner': 8, 'car_horn': 9}\n",
            "[200, 70, 196, 177, 240, 200, 200, 200, 200, 78]\n"
          ],
          "name": "stdout"
        }
      ]
    },
    {
      "cell_type": "code",
      "metadata": {
        "id": "IAWOqcMuthxw"
      },
      "source": [
        "def encode(labels_lst,channel_size,NUM_CLASSES):\n",
        "    y = np.zeros((NUM_CLASSES+1,channel_size))#one extra class for silence\n",
        "    curr_channel = 0\n",
        "    for i in range(len(labels_lst)):\n",
        "      y[labels_lst[i]][curr_channel] = 1\n",
        "      curr_channel = curr_channel+1\n",
        "\n",
        "    if (len(labels_lst)<channel_size):\n",
        "      temp = channel_size - len(labels_lst)\n",
        "      for i in range(len(labels_lst),channel_size):\n",
        "        y[NUM_CLASSES][i] = 1\n",
        "\n",
        "\n",
        "\n",
        "    return y.T  \n"
      ],
      "execution_count": null,
      "outputs": []
    },
    {
      "cell_type": "code",
      "metadata": {
        "id": "C8vCjLzAg9M4"
      },
      "source": [
        "id_label = read_csv(\"/content/drive/MyDrive/project_specs_698/shared_train/labels_train.csv\")\n",
        "\n",
        "X = [[] for i in range(10)]\n",
        "\n",
        "for key,value in id_label.items():\n",
        "  if(value=='dog_bark'):\n",
        "    X[0].append(key)\n",
        "    random.shuffle(X[0])\n",
        "\n",
        "  elif(value=='gun_shot'):\n",
        "    X[1].append(key)\n",
        "    random.shuffle(X[1])\n",
        "\n",
        "  elif(value=='engine_idling'):\n",
        "    X[2].append(key)\n",
        "    random.shuffle(X[2])\n",
        "\n",
        "  elif(value=='siren'):\n",
        "    X[3].append(key)\n",
        "    random.shuffle(X[3])\n",
        "\n",
        "  elif(value=='jackhammer') :\n",
        "    X[4].append(key)\n",
        "    random.shuffle(X[4])\n",
        "\n",
        "  elif(value=='drilling'):\n",
        "    X[5].append(key)\n",
        "    random.shuffle(X[5])\n",
        "\n",
        "  elif(value=='children_playing'):\n",
        "    X[6].append(key)\n",
        "    random.shuffle(X[6])\n",
        "\n",
        "  elif(value=='street_music'):\n",
        "    X[7].append(key)\n",
        "    random.shuffle(X[7])\n",
        "\n",
        "  elif(value=='air_conditioner'):\n",
        "    X[8].append(key)\n",
        "    random.shuffle(X[8])\n",
        "\n",
        "  elif(value=='car_horn'):\n",
        "    X[9].append(key)  \n",
        "    random.shuffle(X[9])     \n",
        "\n",
        "def Generate_Data(X,csvfilename,audio_train_directory,data_in_each_channel):\n",
        "\n",
        "    df = pd.read_csv(csvfilename)\n",
        "    Labels = list(df['class'].unique())\n",
        "    Labels_int = list(range(len(Labels)))\n",
        "    NUM_CLASSES = len(Labels_int)\n",
        "    map_char_to_int = dict(zip(Labels,Labels_int))\n",
        "\n",
        "    id_label = read_csv(csvfilename)\n",
        "    NUM_CLASSES = len(X)\n",
        "\n",
        "    lst = [0,1,2,3,4,5,6,7,8,9]\n",
        "    X_data = []\n",
        "    Y_data = []\n",
        "\n",
        "    ################### Generating single channel data ####################\n",
        "    n_channel = 1\n",
        "    N_samples = data_in_each_channel[0]\n",
        "    while(N_samples>0):\n",
        "      for j in range(len(X)):\n",
        "        if(N_samples>0):\n",
        "          wav_file = []\n",
        "          mul_label = []\n",
        "          wav = random.choice(X[j])\n",
        "          lab = id_label[wav]\n",
        "          wav = audio_train_directory+\"/\"+wav\n",
        "          wav_file.append(wav)\n",
        "          mul_label.append(map_char_to_int[lab])\n",
        "          x = wavs2feat(wav_file)\n",
        "          y = encode(mul_label,5,NUM_CLASSES)\n",
        "          X_data.append(x)\n",
        "          Y_data.append(y)\n",
        "          N_samples = N_samples-1\n",
        "        else:\n",
        "          break  \n",
        "    ################### Generating 2 channel data #########################\n",
        "    n_channel = 2\n",
        "    N_samples = data_in_each_channel[1]\n",
        "    while(N_samples>0):\n",
        "      wav_file = []\n",
        "      mul_label = []\n",
        "      for i in range(len(X)):\n",
        "        for j in range(i,len(X)):\n",
        "          if(N_samples>0):\n",
        "            wav1 = random.choice(X[i])\n",
        "            lab1 = id_label[wav1]\n",
        "            wav1 = audio_train_directory+\"/\"+wav1\n",
        "            wav2 = random.choice(X[j])\n",
        "            lab2 = id_label[wav2]\n",
        "            wav2 = audio_train_directory+\"/\"+wav2\n",
        "            wav_file.append(wav1)\n",
        "            wav_file.append(wav2)\n",
        "            mul_label.append(map_char_to_int[lab1])\n",
        "            mul_label.append(map_char_to_int[lab2]) \n",
        "            x = wavs2feat(wav_file) \n",
        "            y = encode(mul_label,5,NUM_CLASSES)\n",
        "            X_data.append(x)\n",
        "            Y_data.append(y)\n",
        "            wav_file = []\n",
        "            mul_label = []\n",
        "            N_samples = N_samples - 1\n",
        "          else:\n",
        "            break  \n",
        "    ################## Generating 3 or more channel data ####################### \n",
        "    channel_size = [3,4,5]\n",
        "    for l in range(len(channel_size)):\n",
        "      n_channel = channel_size[l]\n",
        "      N_samples = data_in_each_channel[l+2]\n",
        "      lst_temp = list(np.copy(lst))\n",
        "      for i in range(N_samples):\n",
        "        wav_file = []\n",
        "        mul_label = []\n",
        "        for j in range(n_channel):\n",
        "          k = random.choice(lst_temp)\n",
        "          #lst_temp.remove(k)\n",
        "          wav = random.choice(X[k])\n",
        "          lab = id_label[wav]\n",
        "          wav = audio_train_directory+\"/\"+wav\n",
        "          wav_file.append(wav)\n",
        "          mul_label.append(map_char_to_int[lab])\n",
        "        x = wavs2feat(wav_file)  \n",
        "        y = encode(mul_label,5,NUM_CLASSES)\n",
        "        X_data.append(x)\n",
        "        Y_data.append(y)\n",
        "\n",
        "    temp = list(zip(X_data, Y_data)) \n",
        "    random.shuffle(temp) \n",
        "    X_data, Y_data = zip(*temp) \n",
        "\n",
        "    X_data = np.array(X_data)\n",
        "    Y_data = np.array(Y_data)\n",
        "\n",
        "    return X_data,Y_data,map_char_to_int    \n"
      ],
      "execution_count": null,
      "outputs": []
    },
    {
      "cell_type": "code",
      "metadata": {
        "id": "TuIcdpHoBAEY"
      },
      "source": [
        "X_train = [[] for i in range(10)]\n",
        "X_test = [[] for i in range(10)]\n",
        "\n",
        "X_train[0] = X[0][0:150]\n",
        "X_test[0] = X[0][150:]\n",
        "\n",
        "X_train[1] = X[1][0:50]\n",
        "X_test[1] = X[1][50:]\n",
        "\n",
        "X_train[2] = X[2][0:140]\n",
        "X_test[2] = X[2][140:]\n",
        "\n",
        "X_train[3] = X[3][0:130]\n",
        "X_test[3] = X[3][130:]\n",
        "\n",
        "X_train[4] = X[4][0:180]\n",
        "X_test[4] = X[4][180:]\n",
        "\n",
        "X_train[5] = X[5][0:150]\n",
        "X_test[5] = X[5][150:]\n",
        "\n",
        "X_train[6] = X[6][0:150]\n",
        "X_test[6] = X[6][150:]\n",
        "\n",
        "X_train[7] = X[7][0:150]\n",
        "X_test[7] = X[7][150:]\n",
        "\n",
        "X_train[8] = X[8][0:150]\n",
        "X_test[8] = X[8][150:]\n",
        "\n",
        "X_train[9] = X[9][0:50]\n",
        "X_test[9] = X[9][50:]\n",
        "\n",
        "d1 = \"/content/drive/MyDrive/project_specs_698/shared_train/labels_train.csv\"\n",
        "d2 = \"/content/drive/MyDrive/project_specs_698/shared_train/audio_train\"\n",
        "X_train_data,Y_train_data,m = Generate_Data(X_train,d1,d2,[150,250,150,250,200])\n",
        "X_test_data, Y_test_data,m = Generate_Data(X_test,d1,d2,[40,50,80,80,60])"
      ],
      "execution_count": null,
      "outputs": []
    },
    {
      "cell_type": "code",
      "metadata": {
        "id": "4_9rI_HFGifV"
      },
      "source": [
        "#y = np.array(y)\n",
        "from sklearn.model_selection import train_test_split\n",
        "X_train_data = X_train_data.reshape(X_train_data.shape[0],X_train_data.shape[1],X_train_data.shape[2],1)\n",
        "X_test_data = X_test_data.reshape(X_test_data.shape[0],X_test_data.shape[1],X_test_data.shape[2],1)\n",
        "#X_test,X_test,Y_test,Y_test = test_test_split(X_data,Y_data,test_size=0.2)"
      ],
      "execution_count": null,
      "outputs": []
    },
    {
      "cell_type": "code",
      "metadata": {
        "id": "cYCoeYxMTZxg"
      },
      "source": [
        "def read_csv(filename):\n",
        "    id_label = {}\n",
        "    with open(filename,'r') as fid:\n",
        "        for line in fid: # '176787-5-0-27.wav,engine_idling\\n'\n",
        "            tokens = line.strip().split(',') # ['176787-5-0-27.wav', 'engine_idling']\n",
        "            id_label[tokens[0]] = tokens[1]\n",
        "    return id_label"
      ],
      "execution_count": null,
      "outputs": []
    },
    {
      "cell_type": "code",
      "metadata": {
        "id": "qrDkGNFZKz5v"
      },
      "source": [
        "from __future__ import print_function\n",
        "import os\n",
        "import numpy as np\n",
        "import time\n",
        "import sys\n",
        "import matplotlib.pyplot as plot\n",
        "from keras.layers import Bidirectional, TimeDistributed, Conv2D, MaxPooling2D, Input, GRU, Dense, Activation, Dropout, Reshape, Permute, MaxPooling1D\n",
        "from keras.layers.normalization import BatchNormalization\n",
        "from keras.models import Model\n",
        "from sklearn.metrics import confusion_matrix"
      ],
      "execution_count": null,
      "outputs": []
    },
    {
      "cell_type": "code",
      "metadata": {
        "id": "MT72NkXeKSSq"
      },
      "source": [
        "def get_model(data_in, data_out, _cnn_nb_filt, _cnn_pool_size, _rnn_nb, _fc_nb,_fc_nb_pool_size):\n",
        "\n",
        "     spec_start = Input(shape=(data_in.shape[-3], data_in.shape[-2], data_in.shape[-1]))\n",
        "     spec_x = spec_start\n",
        "     for _i, _cnt in enumerate(_cnn_pool_size):\n",
        "        spec_x = Conv2D(filters=_cnn_nb_filt, kernel_size=(3, 3), padding='same')(spec_x)\n",
        "        spec_x = BatchNormalization(axis=1)(spec_x)\n",
        "        spec_x = Activation('relu')(spec_x)\n",
        "        spec_x = MaxPooling2D(pool_size=(_cnn_pool_size[_i],1))(spec_x)\n",
        "        spec_x = MaxPooling2D(pool_size=(1,_cnn_pool_size[_i]))(spec_x)\n",
        "        spec_x = Dropout(dropout_rate)(spec_x)\n",
        "     spec_x = Permute((2, 1, 3))(spec_x)\n",
        "     spec_x = Reshape((spec_x.shape[-3], spec_x.shape[-2]*spec_x.shape[-1]))(spec_x)\n",
        "     #spec_x = Permute((1,3,2))(spec_x)\n",
        "     #spec_x = Reshape((5,-1))(spec_x)\n",
        "     spex_x = GRU(units = 16,dropout=0.2, recurrent_dropout=0.2,return_sequences=True)(spec_x)\n",
        "\n",
        "     for _f,_g in zip(_fc_nb,_fc_nb_pool_size):\n",
        "        spec_x = TimeDistributed(Dense(_f))(spec_x)\n",
        "        spec_x = MaxPooling1D(pool_size=(_g))(spec_x)\n",
        "        spec_x = Dropout(dropout_rate)(spec_x)\n",
        "\n",
        "     spec_x = TimeDistributed(Dense(data_out.shape[-1]))(spec_x)\n",
        "     out = Activation('softmax', name='strong_out')(spec_x)\n",
        "\n",
        "     _model = Model(inputs=spec_start, outputs=out)\n",
        "     _model.compile(optimizer='Adam', loss='binary_crossentropy',metrics='accuracy')\n",
        "     _model.summary()\n",
        "     return _model"
      ],
      "execution_count": null,
      "outputs": []
    },
    {
      "cell_type": "code",
      "metadata": {
        "colab": {
          "base_uri": "https://localhost:8080/"
        },
        "id": "hzk6WH3OKe0o",
        "outputId": "6d4dff35-1ebb-41c4-9711-a2d37688f665"
      },
      "source": [
        "cnn_nb_filt = 32          # CNN filter size\n",
        "cnn_pool_size = [2, 2, 2]   # Maxpooling across frequency. Length of cnn_pool_size =  number of CNN layers\n",
        "rnn_nb = [16, 16]           # Number of RNN nodes.  Length of rnn_nb =  number of RNN layers\n",
        "fc_nb = [32,16,8] \n",
        "fc_nb_poolsize = [5,5,2]               # Number of FC nodes.  Length of fc_nb =  number of FC layers\n",
        "dropout_rate = 0.2         # Dropout after each layer\n",
        "\n",
        "model = get_model(X_train_data, Y_train_data, cnn_nb_filt, cnn_pool_size, rnn_nb, fc_nb,fc_nb_poolsize)\n",
        "model1 = classifierModel(X_train_data[0].shape)"
      ],
      "execution_count": null,
      "outputs": [
        {
          "output_type": "stream",
          "text": [
            "WARNING:tensorflow:Layer gru will not use cuDNN kernel since it doesn't meet the cuDNN kernel criteria. It will use generic GPU kernel as fallback when running on GPU\n",
            "Model: \"functional_1\"\n",
            "_________________________________________________________________\n",
            "Layer (type)                 Output Shape              Param #   \n",
            "=================================================================\n",
            "input_1 (InputLayer)         [(None, 128, 2001, 1)]    0         \n",
            "_________________________________________________________________\n",
            "conv2d (Conv2D)              (None, 128, 2001, 32)     320       \n",
            "_________________________________________________________________\n",
            "batch_normalization (BatchNo (None, 128, 2001, 32)     512       \n",
            "_________________________________________________________________\n",
            "activation (Activation)      (None, 128, 2001, 32)     0         \n",
            "_________________________________________________________________\n",
            "max_pooling2d (MaxPooling2D) (None, 64, 2001, 32)      0         \n",
            "_________________________________________________________________\n",
            "max_pooling2d_1 (MaxPooling2 (None, 64, 1000, 32)      0         \n",
            "_________________________________________________________________\n",
            "dropout (Dropout)            (None, 64, 1000, 32)      0         \n",
            "_________________________________________________________________\n",
            "conv2d_1 (Conv2D)            (None, 64, 1000, 32)      9248      \n",
            "_________________________________________________________________\n",
            "batch_normalization_1 (Batch (None, 64, 1000, 32)      256       \n",
            "_________________________________________________________________\n",
            "activation_1 (Activation)    (None, 64, 1000, 32)      0         \n",
            "_________________________________________________________________\n",
            "max_pooling2d_2 (MaxPooling2 (None, 32, 1000, 32)      0         \n",
            "_________________________________________________________________\n",
            "max_pooling2d_3 (MaxPooling2 (None, 32, 500, 32)       0         \n",
            "_________________________________________________________________\n",
            "dropout_1 (Dropout)          (None, 32, 500, 32)       0         \n",
            "_________________________________________________________________\n",
            "conv2d_2 (Conv2D)            (None, 32, 500, 32)       9248      \n",
            "_________________________________________________________________\n",
            "batch_normalization_2 (Batch (None, 32, 500, 32)       128       \n",
            "_________________________________________________________________\n",
            "activation_2 (Activation)    (None, 32, 500, 32)       0         \n",
            "_________________________________________________________________\n",
            "max_pooling2d_4 (MaxPooling2 (None, 16, 500, 32)       0         \n",
            "_________________________________________________________________\n",
            "max_pooling2d_5 (MaxPooling2 (None, 16, 250, 32)       0         \n",
            "_________________________________________________________________\n",
            "dropout_2 (Dropout)          (None, 16, 250, 32)       0         \n",
            "_________________________________________________________________\n",
            "permute (Permute)            (None, 250, 16, 32)       0         \n",
            "_________________________________________________________________\n",
            "reshape (Reshape)            (None, 250, 512)          0         \n",
            "_________________________________________________________________\n",
            "time_distributed (TimeDistri (None, 250, 32)           16416     \n",
            "_________________________________________________________________\n",
            "max_pooling1d (MaxPooling1D) (None, 50, 32)            0         \n",
            "_________________________________________________________________\n",
            "dropout_3 (Dropout)          (None, 50, 32)            0         \n",
            "_________________________________________________________________\n",
            "time_distributed_1 (TimeDist (None, 50, 16)            528       \n",
            "_________________________________________________________________\n",
            "max_pooling1d_1 (MaxPooling1 (None, 10, 16)            0         \n",
            "_________________________________________________________________\n",
            "dropout_4 (Dropout)          (None, 10, 16)            0         \n",
            "_________________________________________________________________\n",
            "time_distributed_2 (TimeDist (None, 10, 8)             136       \n",
            "_________________________________________________________________\n",
            "max_pooling1d_2 (MaxPooling1 (None, 5, 8)              0         \n",
            "_________________________________________________________________\n",
            "dropout_5 (Dropout)          (None, 5, 8)              0         \n",
            "_________________________________________________________________\n",
            "time_distributed_3 (TimeDist (None, 5, 11)             99        \n",
            "_________________________________________________________________\n",
            "strong_out (Activation)      (None, 5, 11)             0         \n",
            "=================================================================\n",
            "Total params: 36,891\n",
            "Trainable params: 36,443\n",
            "Non-trainable params: 448\n",
            "_________________________________________________________________\n",
            "WARNING:tensorflow:Layer gru_1 will not use cuDNN kernel since it doesn't meet the cuDNN kernel criteria. It will use generic GPU kernel as fallback when running on GPU\n"
          ],
          "name": "stdout"
        }
      ]
    },
    {
      "cell_type": "code",
      "metadata": {
        "colab": {
          "base_uri": "https://localhost:8080/"
        },
        "id": "JEbhStlHLT7z",
        "outputId": "1e1bdf41-635f-4b60-c7fa-d4febf426fdf"
      },
      "source": [
        "history=model.fit(x=X_train_data, y=Y_train_data,validation_split = 0.1,verbose=2,epochs=100,shuffle = True,batch_size=32)"
      ],
      "execution_count": null,
      "outputs": [
        {
          "output_type": "stream",
          "text": [
            "Epoch 1/100\n",
            "29/29 - 9s - loss: 0.3144 - accuracy: 0.3182 - val_loss: 0.3070 - val_accuracy: 0.0680\n",
            "Epoch 2/100\n",
            "29/29 - 9s - loss: 0.2653 - accuracy: 0.3993 - val_loss: 0.3088 - val_accuracy: 0.0700\n",
            "Epoch 3/100\n",
            "29/29 - 9s - loss: 0.2499 - accuracy: 0.4224 - val_loss: 0.2948 - val_accuracy: 0.0680\n",
            "Epoch 4/100\n",
            "29/29 - 9s - loss: 0.2395 - accuracy: 0.4398 - val_loss: 0.2799 - val_accuracy: 0.3900\n",
            "Epoch 5/100\n",
            "29/29 - 9s - loss: 0.2331 - accuracy: 0.4578 - val_loss: 0.2792 - val_accuracy: 0.3940\n",
            "Epoch 6/100\n",
            "29/29 - 9s - loss: 0.2239 - accuracy: 0.4762 - val_loss: 0.2741 - val_accuracy: 0.3900\n",
            "Epoch 7/100\n",
            "29/29 - 9s - loss: 0.2184 - accuracy: 0.4862 - val_loss: 0.2772 - val_accuracy: 0.3900\n",
            "Epoch 8/100\n",
            "29/29 - 9s - loss: 0.2186 - accuracy: 0.4938 - val_loss: 0.2664 - val_accuracy: 0.3880\n",
            "Epoch 9/100\n",
            "29/29 - 9s - loss: 0.2170 - accuracy: 0.4976 - val_loss: 0.2737 - val_accuracy: 0.4180\n",
            "Epoch 10/100\n",
            "29/29 - 9s - loss: 0.2121 - accuracy: 0.5153 - val_loss: 0.2563 - val_accuracy: 0.4140\n",
            "Epoch 11/100\n",
            "29/29 - 9s - loss: 0.2062 - accuracy: 0.5220 - val_loss: 0.2355 - val_accuracy: 0.4380\n",
            "Epoch 12/100\n",
            "29/29 - 9s - loss: 0.2067 - accuracy: 0.5222 - val_loss: 0.2370 - val_accuracy: 0.4360\n",
            "Epoch 13/100\n",
            "29/29 - 9s - loss: 0.2047 - accuracy: 0.5311 - val_loss: 0.2259 - val_accuracy: 0.4600\n",
            "Epoch 14/100\n",
            "29/29 - 9s - loss: 0.2032 - accuracy: 0.5347 - val_loss: 0.2162 - val_accuracy: 0.4880\n",
            "Epoch 15/100\n",
            "29/29 - 9s - loss: 0.1990 - accuracy: 0.5416 - val_loss: 0.2159 - val_accuracy: 0.4720\n",
            "Epoch 16/100\n",
            "29/29 - 9s - loss: 0.1978 - accuracy: 0.5467 - val_loss: 0.2082 - val_accuracy: 0.5100\n",
            "Epoch 17/100\n",
            "29/29 - 9s - loss: 0.1950 - accuracy: 0.5656 - val_loss: 0.1989 - val_accuracy: 0.5420\n",
            "Epoch 18/100\n",
            "29/29 - 9s - loss: 0.1951 - accuracy: 0.5707 - val_loss: 0.1999 - val_accuracy: 0.5580\n",
            "Epoch 19/100\n",
            "29/29 - 9s - loss: 0.1925 - accuracy: 0.5696 - val_loss: 0.1920 - val_accuracy: 0.5720\n",
            "Epoch 20/100\n",
            "29/29 - 9s - loss: 0.1890 - accuracy: 0.5807 - val_loss: 0.1931 - val_accuracy: 0.6000\n",
            "Epoch 21/100\n",
            "29/29 - 9s - loss: 0.1893 - accuracy: 0.5811 - val_loss: 0.1878 - val_accuracy: 0.5980\n",
            "Epoch 22/100\n",
            "29/29 - 9s - loss: 0.1884 - accuracy: 0.5800 - val_loss: 0.1887 - val_accuracy: 0.5940\n",
            "Epoch 23/100\n",
            "29/29 - 9s - loss: 0.1886 - accuracy: 0.5844 - val_loss: 0.1843 - val_accuracy: 0.5980\n",
            "Epoch 24/100\n",
            "29/29 - 9s - loss: 0.1815 - accuracy: 0.5947 - val_loss: 0.1886 - val_accuracy: 0.6060\n",
            "Epoch 25/100\n",
            "29/29 - 9s - loss: 0.1824 - accuracy: 0.6007 - val_loss: 0.1823 - val_accuracy: 0.6020\n",
            "Epoch 26/100\n",
            "29/29 - 9s - loss: 0.1818 - accuracy: 0.5998 - val_loss: 0.1841 - val_accuracy: 0.6020\n",
            "Epoch 27/100\n",
            "29/29 - 9s - loss: 0.1794 - accuracy: 0.6007 - val_loss: 0.1806 - val_accuracy: 0.6240\n",
            "Epoch 28/100\n",
            "29/29 - 9s - loss: 0.1806 - accuracy: 0.6029 - val_loss: 0.1793 - val_accuracy: 0.6040\n",
            "Epoch 29/100\n",
            "29/29 - 9s - loss: 0.1783 - accuracy: 0.6153 - val_loss: 0.1807 - val_accuracy: 0.6240\n",
            "Epoch 30/100\n",
            "29/29 - 9s - loss: 0.1785 - accuracy: 0.6133 - val_loss: 0.1737 - val_accuracy: 0.6380\n",
            "Epoch 31/100\n",
            "29/29 - 9s - loss: 0.1784 - accuracy: 0.6147 - val_loss: 0.1758 - val_accuracy: 0.6300\n",
            "Epoch 32/100\n",
            "29/29 - 9s - loss: 0.1749 - accuracy: 0.6169 - val_loss: 0.1812 - val_accuracy: 0.6060\n",
            "Epoch 33/100\n",
            "29/29 - 9s - loss: 0.1746 - accuracy: 0.6178 - val_loss: 0.1842 - val_accuracy: 0.6200\n",
            "Epoch 34/100\n",
            "29/29 - 9s - loss: 0.1717 - accuracy: 0.6311 - val_loss: 0.1789 - val_accuracy: 0.6360\n",
            "Epoch 35/100\n",
            "29/29 - 9s - loss: 0.1679 - accuracy: 0.6389 - val_loss: 0.1801 - val_accuracy: 0.6480\n",
            "Epoch 36/100\n",
            "29/29 - 9s - loss: 0.1745 - accuracy: 0.6260 - val_loss: 0.1739 - val_accuracy: 0.6300\n",
            "Epoch 37/100\n",
            "29/29 - 9s - loss: 0.1689 - accuracy: 0.6380 - val_loss: 0.1757 - val_accuracy: 0.6540\n",
            "Epoch 38/100\n",
            "29/29 - 9s - loss: 0.1667 - accuracy: 0.6469 - val_loss: 0.1758 - val_accuracy: 0.6440\n",
            "Epoch 39/100\n",
            "29/29 - 9s - loss: 0.1686 - accuracy: 0.6409 - val_loss: 0.1778 - val_accuracy: 0.6580\n",
            "Epoch 40/100\n",
            "29/29 - 9s - loss: 0.1682 - accuracy: 0.6351 - val_loss: 0.1747 - val_accuracy: 0.6320\n",
            "Epoch 41/100\n",
            "29/29 - 9s - loss: 0.1726 - accuracy: 0.6360 - val_loss: 0.1695 - val_accuracy: 0.6640\n",
            "Epoch 42/100\n",
            "29/29 - 9s - loss: 0.1695 - accuracy: 0.6340 - val_loss: 0.1686 - val_accuracy: 0.6640\n",
            "Epoch 43/100\n",
            "29/29 - 9s - loss: 0.1652 - accuracy: 0.6498 - val_loss: 0.1787 - val_accuracy: 0.6480\n",
            "Epoch 44/100\n",
            "29/29 - 9s - loss: 0.1668 - accuracy: 0.6500 - val_loss: 0.1708 - val_accuracy: 0.6620\n",
            "Epoch 45/100\n",
            "29/29 - 9s - loss: 0.1642 - accuracy: 0.6560 - val_loss: 0.1721 - val_accuracy: 0.6600\n",
            "Epoch 46/100\n",
            "29/29 - 9s - loss: 0.1683 - accuracy: 0.6507 - val_loss: 0.1698 - val_accuracy: 0.6720\n",
            "Epoch 47/100\n",
            "29/29 - 9s - loss: 0.1664 - accuracy: 0.6484 - val_loss: 0.1772 - val_accuracy: 0.6480\n",
            "Epoch 48/100\n",
            "29/29 - 9s - loss: 0.1616 - accuracy: 0.6653 - val_loss: 0.1677 - val_accuracy: 0.6840\n",
            "Epoch 49/100\n",
            "29/29 - 9s - loss: 0.1606 - accuracy: 0.6584 - val_loss: 0.1648 - val_accuracy: 0.6780\n",
            "Epoch 50/100\n",
            "29/29 - 9s - loss: 0.1636 - accuracy: 0.6627 - val_loss: 0.1712 - val_accuracy: 0.6780\n",
            "Epoch 51/100\n",
            "29/29 - 9s - loss: 0.1589 - accuracy: 0.6673 - val_loss: 0.1683 - val_accuracy: 0.6640\n",
            "Epoch 52/100\n",
            "29/29 - 9s - loss: 0.1606 - accuracy: 0.6704 - val_loss: 0.1651 - val_accuracy: 0.6860\n",
            "Epoch 53/100\n",
            "29/29 - 9s - loss: 0.1566 - accuracy: 0.6676 - val_loss: 0.1616 - val_accuracy: 0.6860\n",
            "Epoch 54/100\n",
            "29/29 - 9s - loss: 0.1612 - accuracy: 0.6636 - val_loss: 0.1670 - val_accuracy: 0.6840\n",
            "Epoch 55/100\n",
            "29/29 - 9s - loss: 0.1590 - accuracy: 0.6642 - val_loss: 0.1677 - val_accuracy: 0.6860\n",
            "Epoch 56/100\n",
            "29/29 - 9s - loss: 0.1572 - accuracy: 0.6778 - val_loss: 0.1730 - val_accuracy: 0.6760\n",
            "Epoch 57/100\n",
            "29/29 - 9s - loss: 0.1629 - accuracy: 0.6549 - val_loss: 0.1698 - val_accuracy: 0.6860\n",
            "Epoch 58/100\n",
            "29/29 - 9s - loss: 0.1617 - accuracy: 0.6636 - val_loss: 0.1703 - val_accuracy: 0.6900\n",
            "Epoch 59/100\n",
            "29/29 - 9s - loss: 0.1556 - accuracy: 0.6731 - val_loss: 0.1652 - val_accuracy: 0.6880\n",
            "Epoch 60/100\n",
            "29/29 - 9s - loss: 0.1552 - accuracy: 0.6749 - val_loss: 0.1675 - val_accuracy: 0.6800\n",
            "Epoch 61/100\n",
            "29/29 - 9s - loss: 0.1569 - accuracy: 0.6736 - val_loss: 0.1653 - val_accuracy: 0.6800\n",
            "Epoch 62/100\n",
            "29/29 - 9s - loss: 0.1568 - accuracy: 0.6724 - val_loss: 0.1615 - val_accuracy: 0.6980\n",
            "Epoch 63/100\n",
            "29/29 - 9s - loss: 0.1533 - accuracy: 0.6864 - val_loss: 0.1650 - val_accuracy: 0.6880\n",
            "Epoch 64/100\n",
            "29/29 - 9s - loss: 0.1518 - accuracy: 0.6978 - val_loss: 0.1693 - val_accuracy: 0.6900\n",
            "Epoch 65/100\n",
            "29/29 - 9s - loss: 0.1562 - accuracy: 0.6838 - val_loss: 0.1661 - val_accuracy: 0.7000\n",
            "Epoch 66/100\n",
            "29/29 - 9s - loss: 0.1516 - accuracy: 0.6864 - val_loss: 0.1649 - val_accuracy: 0.7020\n",
            "Epoch 67/100\n",
            "29/29 - 9s - loss: 0.1521 - accuracy: 0.6856 - val_loss: 0.1643 - val_accuracy: 0.7020\n",
            "Epoch 68/100\n",
            "29/29 - 9s - loss: 0.1518 - accuracy: 0.6933 - val_loss: 0.1661 - val_accuracy: 0.6940\n",
            "Epoch 69/100\n",
            "29/29 - 9s - loss: 0.1493 - accuracy: 0.6956 - val_loss: 0.1657 - val_accuracy: 0.6940\n",
            "Epoch 70/100\n",
            "29/29 - 9s - loss: 0.1490 - accuracy: 0.6978 - val_loss: 0.1607 - val_accuracy: 0.7100\n",
            "Epoch 71/100\n",
            "29/29 - 9s - loss: 0.1500 - accuracy: 0.6929 - val_loss: 0.1621 - val_accuracy: 0.6920\n",
            "Epoch 72/100\n",
            "29/29 - 9s - loss: 0.1495 - accuracy: 0.6924 - val_loss: 0.1612 - val_accuracy: 0.7120\n",
            "Epoch 73/100\n",
            "29/29 - 9s - loss: 0.1496 - accuracy: 0.6918 - val_loss: 0.1635 - val_accuracy: 0.7180\n",
            "Epoch 74/100\n",
            "29/29 - 9s - loss: 0.1472 - accuracy: 0.6980 - val_loss: 0.1728 - val_accuracy: 0.6940\n",
            "Epoch 75/100\n",
            "29/29 - 9s - loss: 0.1490 - accuracy: 0.6984 - val_loss: 0.1619 - val_accuracy: 0.7040\n",
            "Epoch 76/100\n",
            "29/29 - 9s - loss: 0.1452 - accuracy: 0.6978 - val_loss: 0.1669 - val_accuracy: 0.7100\n",
            "Epoch 77/100\n",
            "29/29 - 9s - loss: 0.1462 - accuracy: 0.7047 - val_loss: 0.1627 - val_accuracy: 0.7260\n",
            "Epoch 78/100\n",
            "29/29 - 9s - loss: 0.1449 - accuracy: 0.7082 - val_loss: 0.1646 - val_accuracy: 0.7040\n",
            "Epoch 79/100\n",
            "29/29 - 9s - loss: 0.1446 - accuracy: 0.7051 - val_loss: 0.1657 - val_accuracy: 0.7120\n",
            "Epoch 80/100\n",
            "29/29 - 9s - loss: 0.1511 - accuracy: 0.6929 - val_loss: 0.1730 - val_accuracy: 0.7140\n",
            "Epoch 81/100\n",
            "29/29 - 9s - loss: 0.1457 - accuracy: 0.7064 - val_loss: 0.1650 - val_accuracy: 0.7040\n",
            "Epoch 82/100\n",
            "29/29 - 9s - loss: 0.1472 - accuracy: 0.6998 - val_loss: 0.1602 - val_accuracy: 0.7380\n",
            "Epoch 83/100\n",
            "29/29 - 9s - loss: 0.1429 - accuracy: 0.7122 - val_loss: 0.1689 - val_accuracy: 0.7160\n",
            "Epoch 84/100\n",
            "29/29 - 9s - loss: 0.1510 - accuracy: 0.6971 - val_loss: 0.1645 - val_accuracy: 0.7200\n",
            "Epoch 85/100\n",
            "29/29 - 9s - loss: 0.1431 - accuracy: 0.7149 - val_loss: 0.1652 - val_accuracy: 0.7120\n",
            "Epoch 86/100\n",
            "29/29 - 9s - loss: 0.1425 - accuracy: 0.7113 - val_loss: 0.1596 - val_accuracy: 0.7220\n",
            "Epoch 87/100\n",
            "29/29 - 9s - loss: 0.1417 - accuracy: 0.7167 - val_loss: 0.1589 - val_accuracy: 0.7220\n",
            "Epoch 88/100\n",
            "29/29 - 9s - loss: 0.1419 - accuracy: 0.7122 - val_loss: 0.1654 - val_accuracy: 0.7220\n",
            "Epoch 89/100\n",
            "29/29 - 9s - loss: 0.1415 - accuracy: 0.7133 - val_loss: 0.1553 - val_accuracy: 0.7340\n",
            "Epoch 90/100\n",
            "29/29 - 9s - loss: 0.1409 - accuracy: 0.7196 - val_loss: 0.1595 - val_accuracy: 0.7120\n",
            "Epoch 91/100\n",
            "29/29 - 9s - loss: 0.1430 - accuracy: 0.7198 - val_loss: 0.1642 - val_accuracy: 0.7360\n",
            "Epoch 92/100\n",
            "29/29 - 9s - loss: 0.1396 - accuracy: 0.7182 - val_loss: 0.1632 - val_accuracy: 0.7100\n",
            "Epoch 93/100\n",
            "29/29 - 9s - loss: 0.1396 - accuracy: 0.7222 - val_loss: 0.1587 - val_accuracy: 0.7360\n",
            "Epoch 94/100\n",
            "29/29 - 9s - loss: 0.1415 - accuracy: 0.7164 - val_loss: 0.1550 - val_accuracy: 0.7340\n",
            "Epoch 95/100\n",
            "29/29 - 9s - loss: 0.1394 - accuracy: 0.7309 - val_loss: 0.1590 - val_accuracy: 0.7520\n",
            "Epoch 96/100\n",
            "29/29 - 9s - loss: 0.1399 - accuracy: 0.7260 - val_loss: 0.1596 - val_accuracy: 0.7340\n",
            "Epoch 97/100\n",
            "29/29 - 9s - loss: 0.1363 - accuracy: 0.7302 - val_loss: 0.1642 - val_accuracy: 0.7280\n",
            "Epoch 98/100\n",
            "29/29 - 9s - loss: 0.1379 - accuracy: 0.7273 - val_loss: 0.1521 - val_accuracy: 0.7460\n",
            "Epoch 99/100\n",
            "29/29 - 9s - loss: 0.1360 - accuracy: 0.7300 - val_loss: 0.1580 - val_accuracy: 0.7380\n",
            "Epoch 100/100\n",
            "29/29 - 9s - loss: 0.1361 - accuracy: 0.7309 - val_loss: 0.1626 - val_accuracy: 0.7480\n"
          ],
          "name": "stdout"
        }
      ]
    },
    {
      "cell_type": "code",
      "metadata": {
        "colab": {
          "base_uri": "https://localhost:8080/"
        },
        "id": "iDBm1IKw3MMg",
        "outputId": "df9bfe2f-3aec-42ea-896a-f2dcbb6ff10e"
      },
      "source": [
        "model.evaluate(X_test_data,Y_test_data)"
      ],
      "execution_count": null,
      "outputs": [
        {
          "output_type": "stream",
          "text": [
            "10/10 [==============================] - 1s 108ms/step - loss: 0.1475 - accuracy: 0.7284\n"
          ],
          "name": "stdout"
        },
        {
          "output_type": "execute_result",
          "data": {
            "text/plain": [
              "[0.14754721522331238, 0.7283871173858643]"
            ]
          },
          "metadata": {
            "tags": []
          },
          "execution_count": 17
        }
      ]
    },
    {
      "cell_type": "code",
      "metadata": {
        "colab": {
          "base_uri": "https://localhost:8080/"
        },
        "id": "3rpX6LDIwTAv",
        "outputId": "e6106aba-de14-4ce9-acc8-204b96098005"
      },
      "source": [
        "model.save(\"/content/drive/MyDrive/My_model(2)\")"
      ],
      "execution_count": null,
      "outputs": [
        {
          "output_type": "stream",
          "text": [
            "WARNING:tensorflow:From /usr/local/lib/python3.6/dist-packages/tensorflow/python/training/tracking/tracking.py:111: Model.state_updates (from tensorflow.python.keras.engine.training) is deprecated and will be removed in a future version.\n",
            "Instructions for updating:\n",
            "This property should not be used in TensorFlow 2.0, as updates are applied automatically.\n",
            "WARNING:tensorflow:From /usr/local/lib/python3.6/dist-packages/tensorflow/python/training/tracking/tracking.py:111: Layer.updates (from tensorflow.python.keras.engine.base_layer) is deprecated and will be removed in a future version.\n",
            "Instructions for updating:\n",
            "This property should not be used in TensorFlow 2.0, as updates are applied automatically.\n",
            "INFO:tensorflow:Assets written to: /content/drive/MyDrive/My_model(2)/assets\n"
          ],
          "name": "stdout"
        }
      ]
    },
    {
      "cell_type": "code",
      "metadata": {
        "id": "PY2iPb7oyvrQ"
      },
      "source": [
        "a = model.predict(X_test_data)#sample check"
      ],
      "execution_count": null,
      "outputs": []
    },
    {
      "cell_type": "code",
      "metadata": {
        "colab": {
          "base_uri": "https://localhost:8080/"
        },
        "id": "qowNNSFA7JLW",
        "outputId": "879524d3-7caa-4373-9610-331237c7d4ce"
      },
      "source": [
        "np.argmax(a[78],axis=1)"
      ],
      "execution_count": null,
      "outputs": [
        {
          "output_type": "execute_result",
          "data": {
            "text/plain": [
              "array([ 2,  7,  1, 10, 10])"
            ]
          },
          "metadata": {
            "tags": []
          },
          "execution_count": 36
        }
      ]
    },
    {
      "cell_type": "code",
      "metadata": {
        "colab": {
          "base_uri": "https://localhost:8080/"
        },
        "id": "QcZdv5297KVc",
        "outputId": "7ef124c4-9d56-459a-9c49-fd258177296f"
      },
      "source": [
        "np.argmax(Y_test_data[78],axis=1)"
      ],
      "execution_count": null,
      "outputs": [
        {
          "output_type": "execute_result",
          "data": {
            "text/plain": [
              "array([ 2,  7,  1, 10, 10])"
            ]
          },
          "metadata": {
            "tags": []
          },
          "execution_count": 35
        }
      ]
    },
    {
      "cell_type": "code",
      "metadata": {
        "id": "bRY3tNgus1fM"
      },
      "source": [
        "def func(label,m):\n",
        "  char_lst = []\n",
        "  for i in range(label.size):\n",
        "    if(label[0][i]==10):\n",
        "      break\n",
        "    for key in m.keys():\n",
        "      if(m[key]==label[0][i]):\n",
        "        char_lst.append(key)\n",
        "        break\n",
        "  new_lst = []\n",
        "  previous_value = None\n",
        "\n",
        "  for elem in char_lst:\n",
        "    if elem!=previous_value:\n",
        "      new_lst.append(elem)\n",
        "      previous_value = elem\n",
        "\n",
        "  label_char = '-'.join(new_lst)  \n",
        "\n",
        "  return label_char  \n",
        "\n",
        "\n"
      ],
      "execution_count": null,
      "outputs": []
    },
    {
      "cell_type": "code",
      "metadata": {
        "id": "NXYfPU-07L0X"
      },
      "source": [
        "####################### EVALUATION ON TEST SET ####################################\n",
        "\n",
        "directory = \"/content/drive/MyDrive/test_task2/feats\"\n",
        "direc = os.fsencode(directory)\n",
        "lis_dir = {}\n",
        "for np_fil in os.listdir(direc):\n",
        "  fil = os.fsdecode(np_fil)\n",
        "  X = process(np.load(directory+\"/\"+fil))\n",
        "  #print(X.shape)\n",
        "  label = np.argmax(model.predict(np.array([X])),axis=2)\n",
        "  #print(label.shape)\n",
        "  label_char = func(label,m)\n",
        "  lis_dir[fil] = label_char"
      ],
      "execution_count": null,
      "outputs": []
    },
    {
      "cell_type": "code",
      "metadata": {
        "colab": {
          "base_uri": "https://localhost:8080/"
        },
        "id": "GzkU8dTWxz6S",
        "outputId": "1480adf2-c5a7-4490-df12-5a3b511f54fa"
      },
      "source": [
        "lis_dir"
      ],
      "execution_count": null,
      "outputs": [
        {
          "output_type": "execute_result",
          "data": {
            "text/plain": [
              "{'a001.npy': 'siren-street_music-siren',\n",
              " 'a002.npy': 'street_music-car_horn-siren',\n",
              " 'a003.npy': 'siren-street_music-children_playing',\n",
              " 'a004.npy': 'siren-children_playing-dog_bark',\n",
              " 'a005.npy': 'air_conditioner-children_playing',\n",
              " 'a006.npy': 'jackhammer-engine_idling-jackhammer-air_conditioner',\n",
              " 'a007.npy': 'siren-jackhammer',\n",
              " 'a008.npy': 'jackhammer',\n",
              " 'a009.npy': 'dog_bark-air_conditioner-children_playing',\n",
              " 'a010.npy': 'engine_idling-drilling',\n",
              " 'a011.npy': 'drilling-dog_bark-jackhammer',\n",
              " 'a012.npy': 'car_horn-jackhammer-street_music',\n",
              " 'a013.npy': 'children_playing-drilling',\n",
              " 'a014.npy': 'engine_idling-jackhammer',\n",
              " 'a015.npy': 'jackhammer-children_playing-dog_bark-drilling',\n",
              " 'a016.npy': 'children_playing-jackhammer-drilling',\n",
              " 'a017.npy': 'children_playing-jackhammer',\n",
              " 'a018.npy': 'jackhammer-siren',\n",
              " 'a019.npy': 'jackhammer-air_conditioner',\n",
              " 'a020.npy': 'jackhammer-engine_idling-children_playing-street_music',\n",
              " 'a021.npy': 'siren-car_horn-gun_shot',\n",
              " 'a022.npy': 'street_music-jackhammer-drilling',\n",
              " 'a023.npy': 'jackhammer-drilling-gun_shot-drilling',\n",
              " 'a024.npy': 'jackhammer-dog_bark',\n",
              " 'a025.npy': 'children_playing-jackhammer-air_conditioner-jackhammer',\n",
              " 'a026.npy': 'jackhammer',\n",
              " 'a027.npy': 'air_conditioner-jackhammer-street_music-siren',\n",
              " 'a028.npy': 'children_playing-jackhammer',\n",
              " 'a029.npy': 'dog_bark-engine_idling-siren',\n",
              " 'a030.npy': 'street_music-jackhammer-street_music-drilling'}"
            ]
          },
          "metadata": {
            "tags": []
          },
          "execution_count": 60
        }
      ]
    },
    {
      "cell_type": "code",
      "metadata": {
        "id": "YJ9vaSkHsj05"
      },
      "source": [
        "########################## Converting to .csv ##################################\n",
        "\n",
        "import csv\n",
        "field_names = ['file_name','Predicted_label']\n",
        "with open('test.csv','w') as f:\n",
        "  csv.DictWriter(f,fieldnames = field_names)\n",
        "  for key in lis_dir.keys():\n",
        "    f.write(\"%s,%s\\n\"%(key,lis_dir[key]))"
      ],
      "execution_count": null,
      "outputs": []
    },
    {
      "cell_type": "code",
      "metadata": {
        "id": "eeY1VJWezPiY"
      },
      "source": [
        "df = pd.read_csv(\"test.csv\")"
      ],
      "execution_count": null,
      "outputs": []
    }
  ]
}